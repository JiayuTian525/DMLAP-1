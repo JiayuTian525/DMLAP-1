{
  "cells": [
    {
      "cell_type": "markdown",
      "metadata": {},
      "source": [
        "Dcgan\n",
        "=====\n",
        "\n"
      ]
    },
    {
      "cell_type": "markdown",
      "metadata": {},
      "source": [
        "[https://keras.io/examples/generative/dcgan_overriding_train_step/](https://keras.io/examples/generative/dcgan_overriding_train_step/)\n",
        "\n",
        "To run this you will need gdown\n",
        "\n"
      ]
    },
    {
      "cell_type": "code",
      "execution_count": 1,
      "metadata": {},
      "outputs": [
        {
          "name": "stdout",
          "output_type": "stream",
          "text": [
            "Requirement already satisfied: gdown in /Users/colormotor/opt/miniconda3/lib/python3.10/site-packages (4.6.4)\n",
            "Requirement already satisfied: tqdm in /Users/colormotor/opt/miniconda3/lib/python3.10/site-packages (from gdown) (4.63.0)\n",
            "Requirement already satisfied: requests[socks] in /Users/colormotor/opt/miniconda3/lib/python3.10/site-packages (from gdown) (2.28.1)\n",
            "Requirement already satisfied: beautifulsoup4 in /Users/colormotor/opt/miniconda3/lib/python3.10/site-packages (from gdown) (4.11.1)\n",
            "Requirement already satisfied: filelock in /Users/colormotor/opt/miniconda3/lib/python3.10/site-packages (from gdown) (3.9.0)\n",
            "Requirement already satisfied: six in /Users/colormotor/opt/miniconda3/lib/python3.10/site-packages (from gdown) (1.16.0)\n",
            "Requirement already satisfied: soupsieve>1.2 in /Users/colormotor/opt/miniconda3/lib/python3.10/site-packages (from beautifulsoup4->gdown) (2.3.2.post1)\n",
            "Requirement already satisfied: certifi>=2017.4.17 in /Users/colormotor/opt/miniconda3/lib/python3.10/site-packages (from requests[socks]->gdown) (2022.12.7)\n",
            "Requirement already satisfied: idna<4,>=2.5 in /Users/colormotor/opt/miniconda3/lib/python3.10/site-packages (from requests[socks]->gdown) (3.4)\n",
            "Requirement already satisfied: charset-normalizer<3,>=2 in /Users/colormotor/opt/miniconda3/lib/python3.10/site-packages (from requests[socks]->gdown) (2.1.1)\n",
            "Requirement already satisfied: urllib3<1.27,>=1.21.1 in /Users/colormotor/opt/miniconda3/lib/python3.10/site-packages (from requests[socks]->gdown) (1.26.11)\n",
            "Requirement already satisfied: PySocks!=1.5.7,>=1.5.6 in /Users/colormotor/opt/miniconda3/lib/python3.10/site-packages (from requests[socks]->gdown) (1.7.1)\n",
            "\n",
            "\u001b[1m[\u001b[0m\u001b[34;49mnotice\u001b[0m\u001b[1;39;49m]\u001b[0m\u001b[39;49m A new release of pip is available: \u001b[0m\u001b[31;49m23.0\u001b[0m\u001b[39;49m -> \u001b[0m\u001b[32;49m23.0.1\u001b[0m\n",
            "\u001b[1m[\u001b[0m\u001b[34;49mnotice\u001b[0m\u001b[1;39;49m]\u001b[0m\u001b[39;49m To update, run: \u001b[0m\u001b[32;49mpip install --upgrade pip\u001b[0m\n"
          ]
        }
      ],
      "source": [
        "!pip install gdown"
      ]
    },
    {
      "cell_type": "code",
      "execution_count": 1,
      "metadata": {},
      "outputs": [],
      "source": [
        "import tensorflow as tf\n",
        "from tensorflow import keras\n",
        "from tensorflow.keras import layers\n",
        "from tensorflow.keras.layers import (Input, Reshape, Dropout, Dense,\n",
        "                                     Flatten, BatchNormalization,\n",
        "                                     Activation, ZeroPadding2D, LeakyReLU,\n",
        "                                     UpSampling2D, Conv2D)\n",
        "from tensorflow.keras.models import Sequential, Model, load_model\n",
        "from tensorflow.keras.optimizers import Adam\n",
        "\n",
        "import numpy as np\n",
        "import matplotlib.pyplot as plt\n",
        "import os\n",
        "import gdown\n",
        "from zipfile import ZipFile"
      ]
    },
    {
      "cell_type": "markdown",
      "metadata": {},
      "source": [
        "## Prepare Celeb data\n",
        "\n"
      ]
    },
    {
      "cell_type": "markdown",
      "metadata": {},
      "source": [
        "In this example we will use the Celeb dataset. We will resize images to a size of `64x64`.\n",
        "First download the dataset (only need to do this once, then it will throw an error but don&rsquo;t worry):\n",
        "\n"
      ]
    },
    {
      "cell_type": "code",
      "execution_count": 2,
      "metadata": {},
      "outputs": [
        {
          "ename": "FileExistsError",
          "evalue": "[Errno 17] File exists: 'datasets/celeba_gan'",
          "output_type": "error",
          "traceback": [
            "\u001b[0;31m---------------------------------------------------------------------------\u001b[0m",
            "\u001b[0;31mFileExistsError\u001b[0m                           Traceback (most recent call last)",
            "\u001b[0;32m/var/folders/sr/zs7syfx13zzfn32_m3hpw17c0000gn/T/ipykernel_64412/3364950564.py\u001b[0m in \u001b[0;36m<cell line: 1>\u001b[0;34m()\u001b[0m\n\u001b[0;32m----> 1\u001b[0;31m \u001b[0mos\u001b[0m\u001b[0;34m.\u001b[0m\u001b[0mmakedirs\u001b[0m\u001b[0;34m(\u001b[0m\u001b[0;34m\"datasets/celeba_gan\"\u001b[0m\u001b[0;34m,\u001b[0m \u001b[0mexist_ok\u001b[0m\u001b[0;34m=\u001b[0m\u001b[0;32mFalse\u001b[0m\u001b[0;34m)\u001b[0m\u001b[0;34m\u001b[0m\u001b[0;34m\u001b[0m\u001b[0m\n\u001b[0m\u001b[1;32m      2\u001b[0m \u001b[0;34m\u001b[0m\u001b[0m\n\u001b[1;32m      3\u001b[0m \u001b[0murl\u001b[0m \u001b[0;34m=\u001b[0m \u001b[0;34m\"https://drive.google.com/uc?id=1O7m1010EJjLE5QxLZiM9Fpjs7Oj6e684\"\u001b[0m\u001b[0;34m\u001b[0m\u001b[0;34m\u001b[0m\u001b[0m\n\u001b[1;32m      4\u001b[0m \u001b[0moutput\u001b[0m \u001b[0;34m=\u001b[0m \u001b[0;34m\"datasets/celeba_gan/data.zip\"\u001b[0m\u001b[0;34m\u001b[0m\u001b[0;34m\u001b[0m\u001b[0m\n\u001b[1;32m      5\u001b[0m \u001b[0mgdown\u001b[0m\u001b[0;34m.\u001b[0m\u001b[0mdownload\u001b[0m\u001b[0;34m(\u001b[0m\u001b[0murl\u001b[0m\u001b[0;34m,\u001b[0m \u001b[0moutput\u001b[0m\u001b[0;34m,\u001b[0m \u001b[0mquiet\u001b[0m\u001b[0;34m=\u001b[0m\u001b[0;32mFalse\u001b[0m\u001b[0;34m)\u001b[0m\u001b[0;34m\u001b[0m\u001b[0;34m\u001b[0m\u001b[0m\n",
            "\u001b[0;32m~/opt/miniconda3/lib/python3.10/os.py\u001b[0m in \u001b[0;36mmakedirs\u001b[0;34m(name, mode, exist_ok)\u001b[0m\n\u001b[1;32m    223\u001b[0m             \u001b[0;32mreturn\u001b[0m\u001b[0;34m\u001b[0m\u001b[0;34m\u001b[0m\u001b[0m\n\u001b[1;32m    224\u001b[0m     \u001b[0;32mtry\u001b[0m\u001b[0;34m:\u001b[0m\u001b[0;34m\u001b[0m\u001b[0;34m\u001b[0m\u001b[0m\n\u001b[0;32m--> 225\u001b[0;31m         \u001b[0mmkdir\u001b[0m\u001b[0;34m(\u001b[0m\u001b[0mname\u001b[0m\u001b[0;34m,\u001b[0m \u001b[0mmode\u001b[0m\u001b[0;34m)\u001b[0m\u001b[0;34m\u001b[0m\u001b[0;34m\u001b[0m\u001b[0m\n\u001b[0m\u001b[1;32m    226\u001b[0m     \u001b[0;32mexcept\u001b[0m \u001b[0mOSError\u001b[0m\u001b[0;34m:\u001b[0m\u001b[0;34m\u001b[0m\u001b[0;34m\u001b[0m\u001b[0m\n\u001b[1;32m    227\u001b[0m         \u001b[0;31m# Cannot rely on checking for EEXIST, since the operating system\u001b[0m\u001b[0;34m\u001b[0m\u001b[0;34m\u001b[0m\u001b[0m\n",
            "\u001b[0;31mFileExistsError\u001b[0m: [Errno 17] File exists: 'datasets/celeba_gan'"
          ]
        }
      ],
      "source": [
        "os.makedirs(\"datasets/celeba_gan\", exist_ok=False)\n",
        "\n",
        "url = \"https://drive.google.com/uc?id=1O7m1010EJjLE5QxLZiM9Fpjs7Oj6e684\"\n",
        "output = \"datasets/celeba_gan/data.zip\"\n",
        "gdown.download(url, output, quiet=False)\n",
        "\n",
        "with ZipFile(\"celeba_gan/data.zip\", \"r\") as zipobj:\n",
        "    zipobj.extractall(\"datasets/celeba_gan\")"
      ]
    },
    {
      "attachments": {},
      "cell_type": "markdown",
      "metadata": {},
      "source": [
        "And then convert this to a Tensorflow dataset. Because we expect to be training on our laptops, we will reduce the size of the training set. This is not ideal for GANs, but it will still produce reasonable results. Here we also scale the inputs to the `[-1, 1]` range and make sure the dataset is subdivided into batches of the desired size\n",
        "\n"
      ]
    },
    {
      "cell_type": "code",
      "execution_count": 3,
      "metadata": {},
      "outputs": [
        {
          "name": "stdout",
          "output_type": "stream",
          "text": [
            "Found 202599 files belonging to 1 classes.\n",
            "WARNING:tensorflow:From /Users/colormotor/opt/miniconda3/lib/python3.10/site-packages/tensorflow/python/autograph/pyct/static_analysis/liveness.py:83: Analyzer.lamba_check (from tensorflow.python.autograph.pyct.static_analysis.liveness) is deprecated and will be removed after 2023-09-23.\n",
            "Instructions for updating:\n",
            "Lambda fuctions will be no more assumed to be used in the statement where they are used, or at least in the same block. https://github.com/tensorflow/tensorflow/issues/56089\n"
          ]
        }
      ],
      "source": [
        "image_size = 64 # images are square\n",
        "image_channels = 3 # 3 RGB 1 Grayscale\n",
        "image_shape = (image_size, image_size, image_channels)\n",
        "dataset_size = 200\n",
        "batch_size = 32\n",
        "\n",
        "dataset = keras.utils.image_dataset_from_directory(\n",
        "    \"datasets/celeba_gan\", label_mode=None, image_size=(image_size, image_size), batch_size=None)\n",
        "\n",
        "dataset = dataset.take(dataset_size)\n",
        "dataset = dataset.map(lambda x: x / 127.5 - 1.0)\n",
        "dataset = dataset.batch(batch_size) # We create batch here since \"take\" would unbatch it.."
      ]
    },
    {
      "attachments": {},
      "cell_type": "markdown",
      "metadata": {},
      "source": [
        "Now let&rsquo;s see one random instance from the dataset:"
      ]
    },
    {
      "cell_type": "code",
      "execution_count": 5,
      "metadata": {},
      "outputs": [
        {
          "data": {
            "image/png": "[encoded data removed]",
            "text/plain": [
              "<Figure size 640x480 with 1 Axes>"
            ]
          },
          "metadata": {},
          "output_type": "display_data"
        }
      ],
      "source": [
        "for x in dataset:\n",
        "    plt.axis(\"off\")\n",
        "    plt.imshow((x.numpy() * 127.5 + 127.5).astype(\"int32\")[0])\n",
        "    break"
      ]
    },
    {
      "cell_type": "markdown",
      "metadata": {},
      "source": [
        "## Create generator\n",
        "\n"
      ]
    },
    {
      "cell_type": "markdown",
      "metadata": {},
      "source": [
        "At this staget we need to construct our generator. There are many implementations out there, this is one that works reasonably well for our use case and it is adapted from [here](https://github.com/Kaustubh1Verma/Art-using-GANs/blob/ff41eeb5099d2aa3976ed1f051596d14015548d5/DCGAN/DCGAN.py).\n",
        "For GAN models it is [recommended](https://machinelearningmastery.com/how-to-code-generative-adversarial-network-hacks/) to initialize the layers with normally distributed (Gaussian) values and standard deviation of 0.02. The following function is built to enable training on different image sizes, but we recommend sticking with the `64x64` image size:\n",
        "\n"
      ]
    },
    {
      "cell_type": "code",
      "execution_count": 35,
      "metadata": {},
      "outputs": [
        {
          "name": "stdout",
          "output_type": "stream",
          "text": [
            "Model: \"sequential_10\"\n",
            "_________________________________________________________________\n",
            " Layer (type)                Output Shape              Param #   \n",
            "=================================================================\n",
            " dense_10 (Dense)            (None, 512)               51712     \n",
            "                                                                 \n",
            " reshape_5 (Reshape)         (None, 2, 2, 128)         0         \n",
            "                                                                 \n",
            " batch_normalization_45 (Bat  (None, 2, 2, 128)        512       \n",
            " chNormalization)                                                \n",
            "                                                                 \n",
            " up_sampling2d_25 (UpSamplin  (None, 4, 4, 128)        0         \n",
            " g2D)                                                            \n",
            "                                                                 \n",
            " conv2d_60 (Conv2D)          (None, 4, 4, 1024)        1180672   \n",
            "                                                                 \n",
            " activation_35 (Activation)  (None, 4, 4, 1024)        0         \n",
            "                                                                 \n",
            " batch_normalization_46 (Bat  (None, 4, 4, 1024)       4096      \n",
            " chNormalization)                                                \n",
            "                                                                 \n",
            " up_sampling2d_26 (UpSamplin  (None, 8, 8, 1024)       0         \n",
            " g2D)                                                            \n",
            "                                                                 \n",
            " conv2d_61 (Conv2D)          (None, 8, 8, 512)         4719104   \n",
            "                                                                 \n",
            " activation_36 (Activation)  (None, 8, 8, 512)         0         \n",
            "                                                                 \n",
            " batch_normalization_47 (Bat  (None, 8, 8, 512)        2048      \n",
            " chNormalization)                                                \n",
            "                                                                 \n",
            " up_sampling2d_27 (UpSamplin  (None, 16, 16, 512)      0         \n",
            " g2D)                                                            \n",
            "                                                                 \n",
            " conv2d_62 (Conv2D)          (None, 16, 16, 256)       1179904   \n",
            "                                                                 \n",
            " activation_37 (Activation)  (None, 16, 16, 256)       0         \n",
            "                                                                 \n",
            " batch_normalization_48 (Bat  (None, 16, 16, 256)      1024      \n",
            " chNormalization)                                                \n",
            "                                                                 \n",
            " up_sampling2d_28 (UpSamplin  (None, 32, 32, 256)      0         \n",
            " g2D)                                                            \n",
            "                                                                 \n",
            " conv2d_63 (Conv2D)          (None, 32, 32, 128)       295040    \n",
            "                                                                 \n",
            " activation_38 (Activation)  (None, 32, 32, 128)       0         \n",
            "                                                                 \n",
            " batch_normalization_49 (Bat  (None, 32, 32, 128)      512       \n",
            " chNormalization)                                                \n",
            "                                                                 \n",
            " up_sampling2d_29 (UpSamplin  (None, 64, 64, 128)      0         \n",
            " g2D)                                                            \n",
            "                                                                 \n",
            " conv2d_64 (Conv2D)          (None, 64, 64, 64)        73792     \n",
            "                                                                 \n",
            " activation_39 (Activation)  (None, 64, 64, 64)        0         \n",
            "                                                                 \n",
            " batch_normalization_50 (Bat  (None, 64, 64, 64)       256       \n",
            " chNormalization)                                                \n",
            "                                                                 \n",
            " conv2d_65 (Conv2D)          (None, 64, 64, 32)        18464     \n",
            "                                                                 \n",
            " activation_40 (Activation)  (None, 64, 64, 32)        0         \n",
            "                                                                 \n",
            " batch_normalization_51 (Bat  (None, 64, 64, 32)       128       \n",
            " chNormalization)                                                \n",
            "                                                                 \n",
            " conv2d_66 (Conv2D)          (None, 64, 64, 3)         867       \n",
            "                                                                 \n",
            " activation_41 (Activation)  (None, 64, 64, 3)         0         \n",
            "                                                                 \n",
            "=================================================================\n",
            "Total params: 7,528,131\n",
            "Trainable params: 7,523,843\n",
            "Non-trainable params: 4,288\n",
            "_________________________________________________________________\n"
          ]
        }
      ],
      "source": [
        "kernel_size = 3\n",
        "latent_dim = 100 # The size of the latent space\n",
        "\n",
        "init = lambda: tf.keras.initializers.RandomNormal(stddev=0.02)\n",
        "\n",
        "def build_generator():\n",
        "    # From https://github.com/Kaustubh1Verma/Art-using-GANs/blob/ff41eeb5099d2aa3976ed1f051596d14015548d5/DCGAN/DCGAN.py\n",
        "    # This block of code can be a little daunting, but essentially it automatically calculates the required starting\n",
        "    # array size that will be correctly upscaled to our desired image size.\n",
        "    #\n",
        "    # We have 5 Upsample2D layers which each double the images width and height, so we can determine the starting\n",
        "    # x size by taking (x / 2^upsample_count) So for our target image size, 256x192, we do the following:\n",
        "    # x = (192 / 2^5), y = (256 / 2^5) [x and y are reversed within the model]\n",
        "    # We also need a 3rd dimension which is chosen relatively arbitrarily, in this case it's 64.\n",
        "    model = Sequential()\n",
        "    upsample_layers = 5\n",
        "    starting_filters = 128\n",
        "    start_size = image_size // (2 ** upsample_layers)\n",
        "    model.add(Dense(starting_filters * start_size * start_size, activation=\"relu\", input_dim=latent_dim))\n",
        "    model.add(Reshape((start_size, start_size, starting_filters)))\n",
        "    model.add(BatchNormalization(momentum=0.8))\n",
        "\n",
        "    model.add(UpSampling2D())  # 6x8 -> 12x16\n",
        "    model.add(Conv2D(1024, kernel_size=kernel_size, padding=\"same\", kernel_initializer=init()))\n",
        "    model.add(Activation(\"relu\"))\n",
        "    model.add(BatchNormalization(momentum=0.8))\n",
        "\n",
        "    model.add(UpSampling2D())  # 12x16 -> 24x32\n",
        "    model.add(Conv2D(512, kernel_size=kernel_size, padding=\"same\", kernel_initializer=init()))\n",
        "    model.add(Activation(\"relu\"))\n",
        "    model.add(BatchNormalization(momentum=0.8))\n",
        "\n",
        "    model.add(UpSampling2D())  # 24x32 -> 48x64\n",
        "    model.add(Conv2D(256, kernel_size=kernel_size, padding=\"same\", kernel_initializer=init()))\n",
        "    model.add(Activation(\"relu\"))\n",
        "    model.add(BatchNormalization(momentum=0.8))\n",
        "\n",
        "    model.add(UpSampling2D())  # 48x64 -> 96x128\n",
        "    model.add(Conv2D(128, kernel_size=kernel_size, padding=\"same\", kernel_initializer=init()))\n",
        "    model.add(Activation(\"relu\"))\n",
        "    model.add(BatchNormalization(momentum=0.8))\n",
        "\n",
        "    model.add(UpSampling2D())  # 96x128 -> 192x256\n",
        "    model.add(Conv2D(64, kernel_size=kernel_size, padding=\"same\", kernel_initializer=init()))\n",
        "    model.add(Activation(\"relu\"))\n",
        "    model.add(BatchNormalization(momentum=0.8))\n",
        "\n",
        "    model.add(Conv2D(32, kernel_size=kernel_size, padding=\"same\", kernel_initializer=init()))\n",
        "    model.add(Activation(\"relu\"))\n",
        "    model.add(BatchNormalization(momentum=0.8))\n",
        "\n",
        "    model.add(Conv2D(image_channels, kernel_size=kernel_size, padding=\"same\", kernel_initializer=init()))\n",
        "    model.add(Activation(\"tanh\"))\n",
        "\n",
        "    model.summary()\n",
        "\n",
        "    noise = Input(shape=(latent_dim,))\n",
        "    img = model(noise)\n",
        "\n",
        "    return Model(noise, img)\n",
        "\n",
        "generator = build_generator()"
      ]
    },
    {
      "cell_type": "markdown",
      "metadata": {},
      "source": [
        "Let&rsquo;s see it&rsquo;s output before training\n",
        "\n"
      ]
    },
    {
      "cell_type": "code",
      "execution_count": 25,
      "metadata": {},
      "outputs": [
        {
          "data": {
            "image/png": "[encoded data removed]",
            "text/plain": [
              "<Figure size 640x480 with 1 Axes>"
            ]
          },
          "metadata": {},
          "output_type": "display_data"
        }
      ],
      "source": [
        "noise = tf.random.normal([1, latent_dim])\n",
        "generated_image = generator(noise, training=True)\n",
        "plt.imshow(generated_image[0, :, :, 0])\n",
        "plt.show()"
      ]
    },
    {
      "cell_type": "markdown",
      "metadata": {},
      "source": [
        "## Create discriminator\n",
        "\n"
      ]
    },
    {
      "cell_type": "markdown",
      "metadata": {},
      "source": [
        "We then define the discriminator model, again adapted adapted from [here](https://github.com/Kaustubh1Verma/Art-using-GANs/blob/ff41eeb5099d2aa3976ed1f051596d14015548d5/DCGAN/DCGAN.py).\n",
        "\n"
      ]
    },
    {
      "cell_type": "code",
      "execution_count": 36,
      "metadata": {},
      "outputs": [
        {
          "name": "stdout",
          "output_type": "stream",
          "text": [
            "Model: \"sequential_11\"\n",
            "_________________________________________________________________\n",
            " Layer (type)                Output Shape              Param #   \n",
            "=================================================================\n",
            " conv2d_67 (Conv2D)          (None, 32, 32, 32)        896       \n",
            "                                                                 \n",
            " leaky_re_lu_25 (LeakyReLU)  (None, 32, 32, 32)        0         \n",
            "                                                                 \n",
            " dropout_25 (Dropout)        (None, 32, 32, 32)        0         \n",
            "                                                                 \n",
            " conv2d_68 (Conv2D)          (None, 16, 16, 64)        18496     \n",
            "                                                                 \n",
            " zero_padding2d_5 (ZeroPaddi  (None, 17, 17, 64)       0         \n",
            " ng2D)                                                           \n",
            "                                                                 \n",
            " leaky_re_lu_26 (LeakyReLU)  (None, 17, 17, 64)        0         \n",
            "                                                                 \n",
            " dropout_26 (Dropout)        (None, 17, 17, 64)        0         \n",
            "                                                                 \n",
            " batch_normalization_52 (Bat  (None, 17, 17, 64)       256       \n",
            " chNormalization)                                                \n",
            "                                                                 \n",
            " conv2d_69 (Conv2D)          (None, 9, 9, 128)         73856     \n",
            "                                                                 \n",
            " leaky_re_lu_27 (LeakyReLU)  (None, 9, 9, 128)         0         \n",
            "                                                                 \n",
            " dropout_27 (Dropout)        (None, 9, 9, 128)         0         \n",
            "                                                                 \n",
            " batch_normalization_53 (Bat  (None, 9, 9, 128)        512       \n",
            " chNormalization)                                                \n",
            "                                                                 \n",
            " conv2d_70 (Conv2D)          (None, 9, 9, 256)         295168    \n",
            "                                                                 \n",
            " leaky_re_lu_28 (LeakyReLU)  (None, 9, 9, 256)         0         \n",
            "                                                                 \n",
            " dropout_28 (Dropout)        (None, 9, 9, 256)         0         \n",
            "                                                                 \n",
            " conv2d_71 (Conv2D)          (None, 9, 9, 512)         1180160   \n",
            "                                                                 \n",
            " leaky_re_lu_29 (LeakyReLU)  (None, 9, 9, 512)         0         \n",
            "                                                                 \n",
            " dropout_29 (Dropout)        (None, 9, 9, 512)         0         \n",
            "                                                                 \n",
            " flatten_5 (Flatten)         (None, 41472)             0         \n",
            "                                                                 \n",
            " dense_11 (Dense)            (None, 1)                 41473     \n",
            "                                                                 \n",
            "=================================================================\n",
            "Total params: 1,610,817\n",
            "Trainable params: 1,610,433\n",
            "Non-trainable params: 384\n",
            "_________________________________________________________________\n"
          ]
        }
      ],
      "source": [
        "def build_discriminator():\n",
        "    model = Sequential()\n",
        "\n",
        "    model.add(Conv2D(32, kernel_size=kernel_size, strides=2, input_shape=image_shape, padding=\"same\", kernel_initializer=init()))  # 192x256 -> 96x128\n",
        "    model.add(LeakyReLU(alpha=0.2))\n",
        "    model.add(Dropout(0.25))\n",
        "\n",
        "    model.add(Conv2D(64, kernel_size=kernel_size, strides=2, padding=\"same\", kernel_initializer=init()))  # 96x128 -> 48x64\n",
        "    model.add(ZeroPadding2D(padding=((0, 1), (0, 1))))\n",
        "    model.add(LeakyReLU(alpha=0.2))\n",
        "    model.add(Dropout(0.25))\n",
        "    model.add(BatchNormalization(momentum=0.8))\n",
        "\n",
        "    model.add(Conv2D(128, kernel_size=kernel_size, strides=2, padding=\"same\", kernel_initializer=init()))  # 48x64 -> 24x32\n",
        "    model.add(LeakyReLU(alpha=0.2))\n",
        "    model.add(Dropout(0.25))\n",
        "    model.add(BatchNormalization(momentum=0.8))\n",
        "\n",
        "    model.add(Conv2D(256, kernel_size=kernel_size, strides=1, padding=\"same\", kernel_initializer=init()))  # 24x32 -> 12x16\n",
        "    model.add(LeakyReLU(alpha=0.2))\n",
        "    model.add(Dropout(0.25))\n",
        "\n",
        "    model.add(Conv2D(512, kernel_size=kernel_size, strides=1, padding=\"same\", kernel_initializer=init()))  # 12x16 -> 6x8\n",
        "    model.add(LeakyReLU(alpha=0.2))\n",
        "    model.add(Dropout(0.25))\n",
        "\n",
        "    model.add(Flatten())\n",
        "    model.add(Dense(1, activation='sigmoid'))\n",
        "\n",
        "    model.summary()\n",
        "\n",
        "    img = Input(shape=image_shape)\n",
        "    validity = model(img)\n",
        "\n",
        "    return Model(img, validity)\n",
        "\n",
        "discriminator = build_discriminator()"
      ]
    },
    {
      "cell_type": "markdown",
      "metadata": {},
      "source": [
        "Let&rsquo;s see what the discriminator thinks of our generated image:\n",
        "\n"
      ]
    },
    {
      "cell_type": "code",
      "execution_count": 9,
      "metadata": {},
      "outputs": [
        {
          "name": "stdout",
          "output_type": "stream",
          "text": [
            "tf.Tensor([[0.49969378]], shape=(1, 1), dtype=float32)\n"
          ]
        }
      ],
      "source": [
        "decision = discriminator(generated_image)\n",
        "print (decision)"
      ]
    },
    {
      "cell_type": "markdown",
      "metadata": {},
      "source": [
        "## Override `train_step`\n",
        "\n"
      ]
    },
    {
      "cell_type": "markdown",
      "metadata": {},
      "source": [
        "Tensorflow and Keras offer many ways to combine the generator and discriminator into a GAN model and train it. Here we define a custom model class that overrides the `train_step` method, and define a custom loss function for the discriminator that adds smoothing to improve the convergence of the model.\n",
        "\n"
      ]
    },
    {
      "cell_type": "code",
      "execution_count": 27,
      "metadata": {},
      "outputs": [],
      "source": [
        "cross_entropy = tf.keras.losses.BinaryCrossentropy()\n",
        "\n",
        "class DCGAN(keras.Model):\n",
        "    def __init__(self, generator, discriminator):\n",
        "        super().__init__()\n",
        "        self.generator = generator\n",
        "        self.discriminator = discriminator\n",
        "\n",
        "\n",
        "    def generator_loss(self,fake_output):\n",
        "        return cross_entropy(tf.ones_like(fake_output), fake_output)\n",
        "\n",
        "\n",
        "    # smooth parameter is used to induce one sided label smoothing. It can be tuned accordingly\n",
        "    def discriminator_loss(self,real_output, fake_output):\n",
        "        # This version adds noise as suggested in the official Keras DCGAN example\n",
        "        noise_amt = 0.01\n",
        "        real_loss = cross_entropy(tf.ones_like(real_output)+tf.random.uniform(tf.shape(real_output))*noise_amt,\n",
        "                                  real_output)\n",
        "        fake_loss = cross_entropy(tf.zeros_like(fake_output)+tf.random.uniform(tf.shape(fake_output))*noise_amt,\n",
        "                                  fake_output)\n",
        "\n",
        "        # This version adds one sided smoothing\n",
        "        # label for real image is (1-smooth)\n",
        "        # smooth = 0.01\n",
        "        # real_loss = cross_entropy(tf.ones_like(real_output)*(1-smooth), real_output)\n",
        "        # fake_loss = cross_entropy(tf.zeros_like(fake_output), fake_output)\n",
        "\n",
        "        # This version does the usual loss\n",
        "        # real_loss = cross_entropy(tf.ones_like(real_output), real_output)\n",
        "        # fake_loss = cross_entropy(tf.zeros_like(fake_output), fake_output)\n",
        "\n",
        "        return real_loss + fake_loss\n",
        "\n",
        "    def compile(self,generator_optimizer,discriminator_optimizer):\n",
        "        super().compile()\n",
        "        self.generator_optimizer = generator_optimizer\n",
        "        self.discriminator_optimizer = discriminator_optimizer\n",
        "\n",
        "    @tf.function # This improves performance\n",
        "    def train_step(self,data):\n",
        "        # Standard procedure to recover batch size\n",
        "        batch_size = tf.shape(data)[0]\n",
        "\n",
        "        # feed a random input to generator\n",
        "        seed = tf.random.normal(shape=(batch_size, latent_dim))\n",
        "\n",
        "        with tf.GradientTape() as gen_tape, tf.GradientTape() as disc_tape:\n",
        "            # generate image using generator\n",
        "            generated_image = self.generator(seed, training=True)\n",
        "            # discriminator's prediction for real image\n",
        "            real_output = self.discriminator(data, training=True)\n",
        "\n",
        "            # discriminator's estimate for fake image\n",
        "            fake_output = self.discriminator(generated_image, training=True)\n",
        "\n",
        "            # compute loss\n",
        "            gen_loss = self.generator_loss(fake_output)\n",
        "            disc_loss = self.discriminator_loss(real_output, fake_output)\n",
        "\n",
        "            # optimize generator first\n",
        "            generator_grad = gen_tape.gradient(gen_loss, self.generator.trainable_variables)\n",
        "            discriminator_grad = disc_tape.gradient(disc_loss, self.discriminator.trainable_variables)\n",
        "\n",
        "            # optimize discriminator after generator\n",
        "            self.generator_optimizer.apply_gradients(zip(generator_grad,\n",
        "                                                         self.generator.trainable_variables))\n",
        "            self.discriminator_optimizer.apply_gradients(zip(discriminator_grad,\n",
        "                                                             self.discriminator.trainable_variables))\n",
        "\n",
        "        return {\n",
        "            \"generator loss\": gen_loss,\n",
        "            \"discriminator_loss\": disc_loss\n",
        "        }"
      ]
    },
    {
      "cell_type": "markdown",
      "metadata": {},
      "source": [
        "## Create callback that periodically saves generated images\n",
        "\n"
      ]
    },
    {
      "cell_type": "markdown",
      "metadata": {},
      "source": [
        "We want to visualize the results every epoch and save the resulting model and this Python class will take care of that automatically. The images and models will be saved in a specified directory. Periodically check the directory to see how the results change at each epoch.\n",
        "\n"
      ]
    },
    {
      "cell_type": "code",
      "execution_count": 28,
      "metadata": {},
      "outputs": [],
      "source": [
        "class GANMonitor(keras.callbacks.Callback):\n",
        "    def __init__(self, num_img, latent_dim, path):\n",
        "        os.makedirs(path, exist_ok=True)\n",
        "        self.path = path\n",
        "        self.num_img = num_img\n",
        "        self.latent_dim = latent_dim\n",
        "\n",
        "    def on_epoch_end(self, epoch, logs=None):\n",
        "        random_latent_vectors = tf.random.normal(shape=(self.num_img, self.latent_dim))\n",
        "        generated_images = self.model.generator(random_latent_vectors)\n",
        "        #generated_images *= 255\n",
        "        generated_images = generated_images * 127.5 + 127.5 #255\n",
        "        generated_images.numpy()\n",
        "        for i in range(self.num_img):\n",
        "            img = keras.preprocessing.image.array_to_img(generated_images[i])\n",
        "            img.save(os.path.join(self.path, \"e%03d_generated_img_%d.png\" % (epoch+1, i)))\n",
        "        print('Saving epoch %d to %s'%(epoch+1, self.path))\n",
        "        self.model.save_weights(os.path.join(self.path, \"e%0d_weights\"%(epoch+1)))\n",
        "        self.model.generator.save(os.path.join(self.path, \"e%0d_generator.hd5\"%(epoch+1)), save_format='h5')"
      ]
    },
    {
      "cell_type": "markdown",
      "metadata": {},
      "source": [
        "## Train the end to end model\n",
        "\n"
      ]
    },
    {
      "cell_type": "markdown",
      "metadata": {},
      "source": [
        "Finally let&rsquo;s define the optimizers for the generator and discriminator (the Adam optimizer is usually recommended), compile the model and run our training procedure.\n",
        "Change the value of `model_path` to change where the models and results will be saved. Here we train for `30` epochs. Depending on the size of the training set, less or more epochs may be desired. Adjust this by changing the value of the `epochs` variable below:\n",
        "\n"
      ]
    },
    {
      "cell_type": "code",
      "execution_count": 29,
      "metadata": {},
      "outputs": [
        {
          "name": "stdout",
          "output_type": "stream",
          "text": [
            "Epoch 1/30\n",
            "7/7 [==============================] - ETA: 0s - generator loss: 1.0191 - discriminator_loss: 1.0932Saving epoch 1 to ./models/dcgan_dmlap\n",
            "WARNING:tensorflow:Compiled the loaded model, but the compiled metrics have yet to be built. `model.compile_metrics` will be empty until you train or evaluate the model.\n",
            "7/7 [==============================] - 11s 1s/step - generator loss: 1.1007 - discriminator_loss: 1.0954\n",
            "Epoch 2/30\n",
            "7/7 [==============================] - ETA: 0s - generator loss: 1.4588 - discriminator_loss: 0.8262Saving epoch 2 to ./models/dcgan_dmlap\n",
            "WARNING:tensorflow:Compiled the loaded model, but the compiled metrics have yet to be built. `model.compile_metrics` will be empty until you train or evaluate the model.\n",
            "7/7 [==============================] - 9s 1s/step - generator loss: 1.5239 - discriminator_loss: 0.7810\n",
            "Epoch 3/30\n",
            "7/7 [==============================] - ETA: 0s - generator loss: 1.7207 - discriminator_loss: 0.6839Saving epoch 3 to ./models/dcgan_dmlap\n",
            "WARNING:tensorflow:Compiled the loaded model, but the compiled metrics have yet to be built. `model.compile_metrics` will be empty until you train or evaluate the model.\n",
            "7/7 [==============================] - 9s 1s/step - generator loss: 1.7814 - discriminator_loss: 0.6781\n",
            "Epoch 4/30\n",
            "7/7 [==============================] - ETA: 0s - generator loss: 1.5955 - discriminator_loss: 0.7511Saving epoch 4 to ./models/dcgan_dmlap\n",
            "WARNING:tensorflow:Compiled the loaded model, but the compiled metrics have yet to be built. `model.compile_metrics` will be empty until you train or evaluate the model.\n",
            "7/7 [==============================] - 9s 1s/step - generator loss: 1.5992 - discriminator_loss: 0.7186\n",
            "Epoch 5/30\n",
            "7/7 [==============================] - ETA: 0s - generator loss: 1.6841 - discriminator_loss: 0.8078Saving epoch 5 to ./models/dcgan_dmlap\n",
            "WARNING:tensorflow:Compiled the loaded model, but the compiled metrics have yet to be built. `model.compile_metrics` will be empty until you train or evaluate the model.\n",
            "7/7 [==============================] - 9s 1s/step - generator loss: 1.5847 - discriminator_loss: 0.8240\n",
            "Epoch 6/30\n",
            "7/7 [==============================] - ETA: 0s - generator loss: 1.9558 - discriminator_loss: 0.5359Saving epoch 6 to ./models/dcgan_dmlap\n",
            "WARNING:tensorflow:Compiled the loaded model, but the compiled metrics have yet to be built. `model.compile_metrics` will be empty until you train or evaluate the model.\n",
            "7/7 [==============================] - 10s 1s/step - generator loss: 1.9545 - discriminator_loss: 0.5152\n",
            "Epoch 7/30\n",
            "7/7 [==============================] - ETA: 0s - generator loss: 1.9863 - discriminator_loss: 0.7388Saving epoch 7 to ./models/dcgan_dmlap\n",
            "WARNING:tensorflow:Compiled the loaded model, but the compiled metrics have yet to be built. `model.compile_metrics` will be empty until you train or evaluate the model.\n",
            "7/7 [==============================] - 10s 1s/step - generator loss: 1.8993 - discriminator_loss: 0.7165\n",
            "Epoch 8/30\n",
            "7/7 [==============================] - ETA: 0s - generator loss: 2.0505 - discriminator_loss: 0.7356Saving epoch 8 to ./models/dcgan_dmlap\n",
            "WARNING:tensorflow:Compiled the loaded model, but the compiled metrics have yet to be built. `model.compile_metrics` will be empty until you train or evaluate the model.\n",
            "7/7 [==============================] - 10s 1s/step - generator loss: 1.9823 - discriminator_loss: 0.7096\n",
            "Epoch 9/30\n",
            "7/7 [==============================] - ETA: 0s - generator loss: 1.9697 - discriminator_loss: 0.7804Saving epoch 9 to ./models/dcgan_dmlap\n",
            "WARNING:tensorflow:Compiled the loaded model, but the compiled metrics have yet to be built. `model.compile_metrics` will be empty until you train or evaluate the model.\n",
            "7/7 [==============================] - 10s 1s/step - generator loss: 1.9150 - discriminator_loss: 0.7219\n",
            "Epoch 10/30\n",
            "7/7 [==============================] - ETA: 0s - generator loss: 1.8564 - discriminator_loss: 0.7183Saving epoch 10 to ./models/dcgan_dmlap\n",
            "WARNING:tensorflow:Compiled the loaded model, but the compiled metrics have yet to be built. `model.compile_metrics` will be empty until you train or evaluate the model.\n",
            "7/7 [==============================] - 11s 1s/step - generator loss: 1.8828 - discriminator_loss: 0.6730\n",
            "Epoch 11/30\n",
            "7/7 [==============================] - ETA: 0s - generator loss: 2.0088 - discriminator_loss: 0.4855Saving epoch 11 to ./models/dcgan_dmlap\n",
            "WARNING:tensorflow:Compiled the loaded model, but the compiled metrics have yet to be built. `model.compile_metrics` will be empty until you train or evaluate the model.\n",
            "7/7 [==============================] - 11s 1s/step - generator loss: 1.9475 - discriminator_loss: 0.4714\n",
            "Epoch 12/30\n",
            "7/7 [==============================] - ETA: 0s - generator loss: 2.4140 - discriminator_loss: 0.5956Saving epoch 12 to ./models/dcgan_dmlap\n",
            "WARNING:tensorflow:Compiled the loaded model, but the compiled metrics have yet to be built. `model.compile_metrics` will be empty until you train or evaluate the model.\n",
            "7/7 [==============================] - 10s 1s/step - generator loss: 2.3580 - discriminator_loss: 0.5729\n",
            "Epoch 13/30\n",
            "7/7 [==============================] - ETA: 0s - generator loss: 2.6786 - discriminator_loss: 0.5637Saving epoch 13 to ./models/dcgan_dmlap\n",
            "WARNING:tensorflow:Compiled the loaded model, but the compiled metrics have yet to be built. `model.compile_metrics` will be empty until you train or evaluate the model.\n",
            "7/7 [==============================] - 11s 1s/step - generator loss: 2.6056 - discriminator_loss: 0.5319\n",
            "Epoch 14/30\n",
            "7/7 [==============================] - ETA: 0s - generator loss: 2.3060 - discriminator_loss: 0.5738Saving epoch 14 to ./models/dcgan_dmlap\n",
            "WARNING:tensorflow:Compiled the loaded model, but the compiled metrics have yet to be built. `model.compile_metrics` will be empty until you train or evaluate the model.\n",
            "7/7 [==============================] - 10s 1s/step - generator loss: 2.2951 - discriminator_loss: 0.5364\n",
            "Epoch 15/30\n",
            "7/7 [==============================] - ETA: 0s - generator loss: 2.6101 - discriminator_loss: 0.7168Saving epoch 15 to ./models/dcgan_dmlap\n",
            "WARNING:tensorflow:Compiled the loaded model, but the compiled metrics have yet to be built. `model.compile_metrics` will be empty until you train or evaluate the model.\n",
            "7/7 [==============================] - 10s 1s/step - generator loss: 2.5944 - discriminator_loss: 0.7114\n",
            "Epoch 16/30\n",
            "7/7 [==============================] - ETA: 0s - generator loss: 2.2314 - discriminator_loss: 0.7802Saving epoch 16 to ./models/dcgan_dmlap\n",
            "WARNING:tensorflow:Compiled the loaded model, but the compiled metrics have yet to be built. `model.compile_metrics` will be empty until you train or evaluate the model.\n",
            "7/7 [==============================] - 10s 1s/step - generator loss: 2.1699 - discriminator_loss: 0.7807\n",
            "Epoch 17/30\n",
            "7/7 [==============================] - ETA: 0s - generator loss: 2.2242 - discriminator_loss: 1.0903Saving epoch 17 to ./models/dcgan_dmlap\n",
            "WARNING:tensorflow:Compiled the loaded model, but the compiled metrics have yet to be built. `model.compile_metrics` will be empty until you train or evaluate the model.\n",
            "7/7 [==============================] - 10s 1s/step - generator loss: 2.1765 - discriminator_loss: 1.1112\n",
            "Epoch 18/30\n",
            "7/7 [==============================] - ETA: 0s - generator loss: 1.9913 - discriminator_loss: 0.8409Saving epoch 18 to ./models/dcgan_dmlap\n",
            "WARNING:tensorflow:Compiled the loaded model, but the compiled metrics have yet to be built. `model.compile_metrics` will be empty until you train or evaluate the model.\n",
            "7/7 [==============================] - 11s 1s/step - generator loss: 2.0557 - discriminator_loss: 0.8156\n",
            "Epoch 19/30\n",
            "7/7 [==============================] - ETA: 0s - generator loss: 1.5120 - discriminator_loss: 1.1963Saving epoch 19 to ./models/dcgan_dmlap\n",
            "WARNING:tensorflow:Compiled the loaded model, but the compiled metrics have yet to be built. `model.compile_metrics` will be empty until you train or evaluate the model.\n",
            "7/7 [==============================] - 11s 2s/step - generator loss: 1.4744 - discriminator_loss: 1.2576\n",
            "Epoch 20/30\n",
            "7/7 [==============================] - ETA: 0s - generator loss: 1.7772 - discriminator_loss: 0.7665Saving epoch 20 to ./models/dcgan_dmlap\n",
            "WARNING:tensorflow:Compiled the loaded model, but the compiled metrics have yet to be built. `model.compile_metrics` will be empty until you train or evaluate the model.\n",
            "7/7 [==============================] - 10s 1s/step - generator loss: 1.8267 - discriminator_loss: 0.7414\n",
            "Epoch 21/30\n",
            "7/7 [==============================] - ETA: 0s - generator loss: 1.9370 - discriminator_loss: 0.6867Saving epoch 21 to ./models/dcgan_dmlap\n",
            "WARNING:tensorflow:Compiled the loaded model, but the compiled metrics have yet to be built. `model.compile_metrics` will be empty until you train or evaluate the model.\n",
            "7/7 [==============================] - 10s 1s/step - generator loss: 1.9884 - discriminator_loss: 0.6419\n",
            "Epoch 22/30\n",
            "7/7 [==============================] - ETA: 0s - generator loss: 1.7611 - discriminator_loss: 0.9060Saving epoch 22 to ./models/dcgan_dmlap\n",
            "WARNING:tensorflow:Compiled the loaded model, but the compiled metrics have yet to be built. `model.compile_metrics` will be empty until you train or evaluate the model.\n",
            "7/7 [==============================] - 11s 1s/step - generator loss: 1.7655 - discriminator_loss: 0.8881\n",
            "Epoch 23/30\n",
            "7/7 [==============================] - ETA: 0s - generator loss: 2.1137 - discriminator_loss: 0.6608Saving epoch 23 to ./models/dcgan_dmlap\n",
            "WARNING:tensorflow:Compiled the loaded model, but the compiled metrics have yet to be built. `model.compile_metrics` will be empty until you train or evaluate the model.\n",
            "7/7 [==============================] - 10s 1s/step - generator loss: 2.0064 - discriminator_loss: 0.6744\n",
            "Epoch 24/30\n",
            "7/7 [==============================] - ETA: 0s - generator loss: 1.9577 - discriminator_loss: 0.9081Saving epoch 24 to ./models/dcgan_dmlap\n",
            "WARNING:tensorflow:Compiled the loaded model, but the compiled metrics have yet to be built. `model.compile_metrics` will be empty until you train or evaluate the model.\n",
            "7/7 [==============================] - 11s 2s/step - generator loss: 1.9957 - discriminator_loss: 0.8746\n",
            "Epoch 25/30\n",
            "7/7 [==============================] - ETA: 0s - generator loss: 1.7792 - discriminator_loss: 0.9201Saving epoch 25 to ./models/dcgan_dmlap\n",
            "WARNING:tensorflow:Compiled the loaded model, but the compiled metrics have yet to be built. `model.compile_metrics` will be empty until you train or evaluate the model.\n",
            "7/7 [==============================] - 11s 1s/step - generator loss: 1.7188 - discriminator_loss: 0.9412\n",
            "Epoch 26/30\n",
            "7/7 [==============================] - ETA: 0s - generator loss: 2.0972 - discriminator_loss: 0.5534Saving epoch 26 to ./models/dcgan_dmlap\n",
            "WARNING:tensorflow:Compiled the loaded model, but the compiled metrics have yet to be built. `model.compile_metrics` will be empty until you train or evaluate the model.\n",
            "7/7 [==============================] - 11s 1s/step - generator loss: 2.1274 - discriminator_loss: 0.5023\n",
            "Epoch 27/30\n",
            "7/7 [==============================] - ETA: 0s - generator loss: 2.3480 - discriminator_loss: 0.8657Saving epoch 27 to ./models/dcgan_dmlap\n",
            "WARNING:tensorflow:Compiled the loaded model, but the compiled metrics have yet to be built. `model.compile_metrics` will be empty until you train or evaluate the model.\n",
            "7/7 [==============================] - 11s 2s/step - generator loss: 2.4151 - discriminator_loss: 0.8498\n",
            "Epoch 28/30\n",
            "7/7 [==============================] - ETA: 0s - generator loss: 1.9280 - discriminator_loss: 0.8401Saving epoch 28 to ./models/dcgan_dmlap\n",
            "WARNING:tensorflow:Compiled the loaded model, but the compiled metrics have yet to be built. `model.compile_metrics` will be empty until you train or evaluate the model.\n",
            "7/7 [==============================] - 12s 2s/step - generator loss: 1.9711 - discriminator_loss: 0.8584\n",
            "Epoch 29/30\n",
            "7/7 [==============================] - ETA: 0s - generator loss: 1.9168 - discriminator_loss: 0.6928Saving epoch 29 to ./models/dcgan_dmlap\n",
            "WARNING:tensorflow:Compiled the loaded model, but the compiled metrics have yet to be built. `model.compile_metrics` will be empty until you train or evaluate the model.\n",
            "7/7 [==============================] - 13s 2s/step - generator loss: 1.8985 - discriminator_loss: 0.7029\n",
            "Epoch 30/30\n",
            "7/7 [==============================] - ETA: 0s - generator loss: 1.5666 - discriminator_loss: 0.8806Saving epoch 30 to ./models/dcgan_dmlap\n",
            "WARNING:tensorflow:Compiled the loaded model, but the compiled metrics have yet to be built. `model.compile_metrics` will be empty until you train or evaluate the model.\n",
            "7/7 [==============================] - 11s 1s/step - generator loss: 1.6025 - discriminator_loss: 0.8478\n"
          ]
        },
        {
          "data": {
            "text/plain": [
              "<keras.callbacks.History at 0x2b87077c0>"
            ]
          },
          "execution_count": 29,
          "metadata": {},
          "output_type": "execute_result"
        }
      ],
      "source": [
        "model_path = './models/dcgan_dmlap'\n",
        "epochs = 30\n",
        "\n",
        "generator_optimizer = Adam(learning_rate=0.0002,beta_1=0.5)\n",
        "discriminator_optimizer = Adam(learning_rate=0.0002,beta_1=0.5)\n",
        "\n",
        "gan = DCGAN(generator, discriminator)\n",
        "gan.compile(generator_optimizer,discriminator_optimizer)\n",
        "\n",
        "\n",
        "gan.fit(\n",
        "    dataset, epochs=epochs,\n",
        "    callbacks=[GANMonitor(num_img=5,\n",
        "                          latent_dim=latent_dim,\n",
        "                          path=model_path)]\n",
        ")"
      ]
    },
    {
      "attachments": {},
      "cell_type": "markdown",
      "metadata": {},
      "source": [
        "An alternative training procedure..."
      ]
    },
    {
      "cell_type": "code",
      "execution_count": 37,
      "metadata": {},
      "outputs": [
        {
          "name": "stdout",
          "output_type": "stream",
          "text": [
            "Epoch 1\n",
            "Epoch 1 - 7 of 7 [D loss: 0.24498585611581802 | D Accuracy: 0.0] [G loss: 0.6724389791488647]Saving epoch 1 to ./models/dcgan_dmlap_2\n",
            "WARNING:tensorflow:Compiled the loaded model, but the compiled metrics have yet to be built. `model.compile_metrics` will be empty until you train or evaluate the model.\n"
          ]
        },
        {
          "name": "stderr",
          "output_type": "stream",
          "text": [
            "WARNING:tensorflow:Compiled the loaded model, but the compiled metrics have yet to be built. `model.compile_metrics` will be empty until you train or evaluate the model.\n",
            "WARNING:absl:Found untraced functions such as _jit_compiled_convolution_op, _jit_compiled_convolution_op, _jit_compiled_convolution_op, _jit_compiled_convolution_op, _jit_compiled_convolution_op while saving (showing 5 of 7). These functions will not be directly callable after loading.\n"
          ]
        },
        {
          "name": "stdout",
          "output_type": "stream",
          "text": [
            "INFO:tensorflow:Assets written to: ./models/dcgan_dmlap_2/e1_generator.hd5/assets\n"
          ]
        },
        {
          "name": "stderr",
          "output_type": "stream",
          "text": [
            "INFO:tensorflow:Assets written to: ./models/dcgan_dmlap_2/e1_generator.hd5/assets\n"
          ]
        },
        {
          "name": "stdout",
          "output_type": "stream",
          "text": [
            "Epoch 2\n",
            "Epoch 2 - 7 of 7 [D loss: 0.6575204432010651 | D Accuracy: 0.0] [G loss: 2.201547145843506]Saving epoch 2 to ./models/dcgan_dmlap_2\n",
            "WARNING:tensorflow:Compiled the loaded model, but the compiled metrics have yet to be built. `model.compile_metrics` will be empty until you train or evaluate the model.\n"
          ]
        },
        {
          "name": "stderr",
          "output_type": "stream",
          "text": [
            "WARNING:tensorflow:Compiled the loaded model, but the compiled metrics have yet to be built. `model.compile_metrics` will be empty until you train or evaluate the model.\n",
            "WARNING:absl:Found untraced functions such as _jit_compiled_convolution_op, _jit_compiled_convolution_op, _jit_compiled_convolution_op, _jit_compiled_convolution_op, _jit_compiled_convolution_op while saving (showing 5 of 7). These functions will not be directly callable after loading.\n"
          ]
        },
        {
          "name": "stdout",
          "output_type": "stream",
          "text": [
            "INFO:tensorflow:Assets written to: ./models/dcgan_dmlap_2/e2_generator.hd5/assets\n"
          ]
        },
        {
          "name": "stderr",
          "output_type": "stream",
          "text": [
            "INFO:tensorflow:Assets written to: ./models/dcgan_dmlap_2/e2_generator.hd5/assets\n"
          ]
        },
        {
          "name": "stdout",
          "output_type": "stream",
          "text": [
            "Epoch 3\n",
            "Epoch 3 - 7 of 7 [D loss: 0.19274292141199112 | D Accuracy: 0.0] [G loss: 1.496854305267334]Saving epoch 3 to ./models/dcgan_dmlap_2\n",
            "WARNING:tensorflow:Compiled the loaded model, but the compiled metrics have yet to be built. `model.compile_metrics` will be empty until you train or evaluate the model.\n"
          ]
        },
        {
          "name": "stderr",
          "output_type": "stream",
          "text": [
            "WARNING:tensorflow:Compiled the loaded model, but the compiled metrics have yet to be built. `model.compile_metrics` will be empty until you train or evaluate the model.\n",
            "WARNING:absl:Found untraced functions such as _jit_compiled_convolution_op, _jit_compiled_convolution_op, _jit_compiled_convolution_op, _jit_compiled_convolution_op, _jit_compiled_convolution_op while saving (showing 5 of 7). These functions will not be directly callable after loading.\n"
          ]
        },
        {
          "name": "stdout",
          "output_type": "stream",
          "text": [
            "INFO:tensorflow:Assets written to: ./models/dcgan_dmlap_2/e3_generator.hd5/assets\n"
          ]
        },
        {
          "name": "stderr",
          "output_type": "stream",
          "text": [
            "INFO:tensorflow:Assets written to: ./models/dcgan_dmlap_2/e3_generator.hd5/assets\n"
          ]
        },
        {
          "name": "stdout",
          "output_type": "stream",
          "text": [
            "Epoch 4\n",
            "Epoch 4 - 7 of 7 [D loss: 0.5358227789402008 | D Accuracy: 0.0] [G loss: 1.4070091247558594]Saving epoch 4 to ./models/dcgan_dmlap_2\n",
            "WARNING:tensorflow:Compiled the loaded model, but the compiled metrics have yet to be built. `model.compile_metrics` will be empty until you train or evaluate the model.\n"
          ]
        },
        {
          "name": "stderr",
          "output_type": "stream",
          "text": [
            "WARNING:tensorflow:Compiled the loaded model, but the compiled metrics have yet to be built. `model.compile_metrics` will be empty until you train or evaluate the model.\n",
            "WARNING:absl:Found untraced functions such as _jit_compiled_convolution_op, _jit_compiled_convolution_op, _jit_compiled_convolution_op, _jit_compiled_convolution_op, _jit_compiled_convolution_op while saving (showing 5 of 7). These functions will not be directly callable after loading.\n"
          ]
        },
        {
          "name": "stdout",
          "output_type": "stream",
          "text": [
            "INFO:tensorflow:Assets written to: ./models/dcgan_dmlap_2/e4_generator.hd5/assets\n"
          ]
        },
        {
          "name": "stderr",
          "output_type": "stream",
          "text": [
            "INFO:tensorflow:Assets written to: ./models/dcgan_dmlap_2/e4_generator.hd5/assets\n"
          ]
        },
        {
          "name": "stdout",
          "output_type": "stream",
          "text": [
            "Epoch 5\n",
            "Epoch 5 - 7 of 7 [D loss: 0.33495670557022095 | D Accuracy: 0.0] [G loss: 0.9495002031326294]Saving epoch 5 to ./models/dcgan_dmlap_2\n",
            "WARNING:tensorflow:Compiled the loaded model, but the compiled metrics have yet to be built. `model.compile_metrics` will be empty until you train or evaluate the model.\n"
          ]
        },
        {
          "name": "stderr",
          "output_type": "stream",
          "text": [
            "WARNING:tensorflow:Compiled the loaded model, but the compiled metrics have yet to be built. `model.compile_metrics` will be empty until you train or evaluate the model.\n",
            "WARNING:absl:Found untraced functions such as _jit_compiled_convolution_op, _jit_compiled_convolution_op, _jit_compiled_convolution_op, _jit_compiled_convolution_op, _jit_compiled_convolution_op while saving (showing 5 of 7). These functions will not be directly callable after loading.\n"
          ]
        },
        {
          "name": "stdout",
          "output_type": "stream",
          "text": [
            "INFO:tensorflow:Assets written to: ./models/dcgan_dmlap_2/e5_generator.hd5/assets\n"
          ]
        },
        {
          "name": "stderr",
          "output_type": "stream",
          "text": [
            "INFO:tensorflow:Assets written to: ./models/dcgan_dmlap_2/e5_generator.hd5/assets\n"
          ]
        },
        {
          "name": "stdout",
          "output_type": "stream",
          "text": [
            "Epoch 6\n",
            "Epoch 6 - 7 of 7 [D loss: 0.15428443951532245 | D Accuracy: 0.0] [G loss: 0.6588655710220337]Saving epoch 6 to ./models/dcgan_dmlap_2\n",
            "WARNING:tensorflow:Compiled the loaded model, but the compiled metrics have yet to be built. `model.compile_metrics` will be empty until you train or evaluate the model.\n"
          ]
        },
        {
          "name": "stderr",
          "output_type": "stream",
          "text": [
            "WARNING:tensorflow:Compiled the loaded model, but the compiled metrics have yet to be built. `model.compile_metrics` will be empty until you train or evaluate the model.\n",
            "WARNING:absl:Found untraced functions such as _jit_compiled_convolution_op, _jit_compiled_convolution_op, _jit_compiled_convolution_op, _jit_compiled_convolution_op, _jit_compiled_convolution_op while saving (showing 5 of 7). These functions will not be directly callable after loading.\n"
          ]
        },
        {
          "name": "stdout",
          "output_type": "stream",
          "text": [
            "INFO:tensorflow:Assets written to: ./models/dcgan_dmlap_2/e6_generator.hd5/assets\n"
          ]
        },
        {
          "name": "stderr",
          "output_type": "stream",
          "text": [
            "INFO:tensorflow:Assets written to: ./models/dcgan_dmlap_2/e6_generator.hd5/assets\n"
          ]
        },
        {
          "name": "stdout",
          "output_type": "stream",
          "text": [
            "Epoch 7\n",
            "Epoch 7 - 7 of 7 [D loss: 0.04323802958242595 | D Accuracy: 0.0] [G loss: 1.0922564268112183]Saving epoch 7 to ./models/dcgan_dmlap_2\n",
            "WARNING:tensorflow:Compiled the loaded model, but the compiled metrics have yet to be built. `model.compile_metrics` will be empty until you train or evaluate the model.\n"
          ]
        },
        {
          "name": "stderr",
          "output_type": "stream",
          "text": [
            "WARNING:tensorflow:Compiled the loaded model, but the compiled metrics have yet to be built. `model.compile_metrics` will be empty until you train or evaluate the model.\n",
            "WARNING:absl:Found untraced functions such as _jit_compiled_convolution_op, _jit_compiled_convolution_op, _jit_compiled_convolution_op, _jit_compiled_convolution_op, _jit_compiled_convolution_op while saving (showing 5 of 7). These functions will not be directly callable after loading.\n"
          ]
        },
        {
          "name": "stdout",
          "output_type": "stream",
          "text": [
            "INFO:tensorflow:Assets written to: ./models/dcgan_dmlap_2/e7_generator.hd5/assets\n"
          ]
        },
        {
          "name": "stderr",
          "output_type": "stream",
          "text": [
            "INFO:tensorflow:Assets written to: ./models/dcgan_dmlap_2/e7_generator.hd5/assets\n"
          ]
        },
        {
          "name": "stdout",
          "output_type": "stream",
          "text": [
            "Epoch 8\n",
            "Epoch 8 - 7 of 7 [D loss: 0.10513566806912422 | D Accuracy: 0.0] [G loss: 1.3462297916412354]Saving epoch 8 to ./models/dcgan_dmlap_2\n",
            "WARNING:tensorflow:Compiled the loaded model, but the compiled metrics have yet to be built. `model.compile_metrics` will be empty until you train or evaluate the model.\n"
          ]
        },
        {
          "name": "stderr",
          "output_type": "stream",
          "text": [
            "WARNING:tensorflow:Compiled the loaded model, but the compiled metrics have yet to be built. `model.compile_metrics` will be empty until you train or evaluate the model.\n",
            "WARNING:absl:Found untraced functions such as _jit_compiled_convolution_op, _jit_compiled_convolution_op, _jit_compiled_convolution_op, _jit_compiled_convolution_op, _jit_compiled_convolution_op while saving (showing 5 of 7). These functions will not be directly callable after loading.\n"
          ]
        },
        {
          "name": "stdout",
          "output_type": "stream",
          "text": [
            "INFO:tensorflow:Assets written to: ./models/dcgan_dmlap_2/e8_generator.hd5/assets\n"
          ]
        },
        {
          "name": "stderr",
          "output_type": "stream",
          "text": [
            "INFO:tensorflow:Assets written to: ./models/dcgan_dmlap_2/e8_generator.hd5/assets\n"
          ]
        },
        {
          "name": "stdout",
          "output_type": "stream",
          "text": [
            "Epoch 9\n",
            "Epoch 9 - 7 of 7 [D loss: 0.033341895788908005 | D Accuracy: 0.0] [G loss: 1.0952402353286743]Saving epoch 9 to ./models/dcgan_dmlap_2\n",
            "WARNING:tensorflow:Compiled the loaded model, but the compiled metrics have yet to be built. `model.compile_metrics` will be empty until you train or evaluate the model.\n"
          ]
        },
        {
          "name": "stderr",
          "output_type": "stream",
          "text": [
            "WARNING:tensorflow:Compiled the loaded model, but the compiled metrics have yet to be built. `model.compile_metrics` will be empty until you train or evaluate the model.\n",
            "WARNING:absl:Found untraced functions such as _jit_compiled_convolution_op, _jit_compiled_convolution_op, _jit_compiled_convolution_op, _jit_compiled_convolution_op, _jit_compiled_convolution_op while saving (showing 5 of 7). These functions will not be directly callable after loading.\n"
          ]
        },
        {
          "name": "stdout",
          "output_type": "stream",
          "text": [
            "INFO:tensorflow:Assets written to: ./models/dcgan_dmlap_2/e9_generator.hd5/assets\n"
          ]
        },
        {
          "name": "stderr",
          "output_type": "stream",
          "text": [
            "INFO:tensorflow:Assets written to: ./models/dcgan_dmlap_2/e9_generator.hd5/assets\n"
          ]
        },
        {
          "name": "stdout",
          "output_type": "stream",
          "text": [
            "Epoch 10\n",
            "Epoch 10 - 7 of 7 [D loss: 0.04201117530465126 | D Accuracy: 0.0] [G loss: 1.9005893468856812]Saving epoch 10 to ./models/dcgan_dmlap_2\n",
            "WARNING:tensorflow:Compiled the loaded model, but the compiled metrics have yet to be built. `model.compile_metrics` will be empty until you train or evaluate the model.\n"
          ]
        },
        {
          "name": "stderr",
          "output_type": "stream",
          "text": [
            "WARNING:tensorflow:Compiled the loaded model, but the compiled metrics have yet to be built. `model.compile_metrics` will be empty until you train or evaluate the model.\n",
            "WARNING:absl:Found untraced functions such as _jit_compiled_convolution_op, _jit_compiled_convolution_op, _jit_compiled_convolution_op, _jit_compiled_convolution_op, _jit_compiled_convolution_op while saving (showing 5 of 7). These functions will not be directly callable after loading.\n"
          ]
        },
        {
          "name": "stdout",
          "output_type": "stream",
          "text": [
            "INFO:tensorflow:Assets written to: ./models/dcgan_dmlap_2/e10_generator.hd5/assets\n"
          ]
        },
        {
          "name": "stderr",
          "output_type": "stream",
          "text": [
            "INFO:tensorflow:Assets written to: ./models/dcgan_dmlap_2/e10_generator.hd5/assets\n"
          ]
        },
        {
          "name": "stdout",
          "output_type": "stream",
          "text": [
            "Epoch 11\n",
            "Epoch 11 - 7 of 7 [D loss: 0.006760184653103352 | D Accuracy: 0.0] [G loss: 1.3467893600463867]Saving epoch 11 to ./models/dcgan_dmlap_2\n",
            "WARNING:tensorflow:Compiled the loaded model, but the compiled metrics have yet to be built. `model.compile_metrics` will be empty until you train or evaluate the model.\n"
          ]
        },
        {
          "name": "stderr",
          "output_type": "stream",
          "text": [
            "WARNING:tensorflow:Compiled the loaded model, but the compiled metrics have yet to be built. `model.compile_metrics` will be empty until you train or evaluate the model.\n",
            "WARNING:absl:Found untraced functions such as _jit_compiled_convolution_op, _jit_compiled_convolution_op, _jit_compiled_convolution_op, _jit_compiled_convolution_op, _jit_compiled_convolution_op while saving (showing 5 of 7). These functions will not be directly callable after loading.\n"
          ]
        },
        {
          "name": "stdout",
          "output_type": "stream",
          "text": [
            "INFO:tensorflow:Assets written to: ./models/dcgan_dmlap_2/e11_generator.hd5/assets\n"
          ]
        },
        {
          "name": "stderr",
          "output_type": "stream",
          "text": [
            "INFO:tensorflow:Assets written to: ./models/dcgan_dmlap_2/e11_generator.hd5/assets\n"
          ]
        },
        {
          "name": "stdout",
          "output_type": "stream",
          "text": [
            "Epoch 12\n",
            "Epoch 12 - 7 of 7 [D loss: 1.4705643840134144 | D Accuracy: 0.0] [G loss: 4.389289379119873]Saving epoch 12 to ./models/dcgan_dmlap_2\n",
            "WARNING:tensorflow:Compiled the loaded model, but the compiled metrics have yet to be built. `model.compile_metrics` will be empty until you train or evaluate the model.\n"
          ]
        },
        {
          "name": "stderr",
          "output_type": "stream",
          "text": [
            "WARNING:tensorflow:Compiled the loaded model, but the compiled metrics have yet to be built. `model.compile_metrics` will be empty until you train or evaluate the model.\n",
            "WARNING:absl:Found untraced functions such as _jit_compiled_convolution_op, _jit_compiled_convolution_op, _jit_compiled_convolution_op, _jit_compiled_convolution_op, _jit_compiled_convolution_op while saving (showing 5 of 7). These functions will not be directly callable after loading.\n"
          ]
        },
        {
          "name": "stdout",
          "output_type": "stream",
          "text": [
            "INFO:tensorflow:Assets written to: ./models/dcgan_dmlap_2/e12_generator.hd5/assets\n"
          ]
        },
        {
          "name": "stderr",
          "output_type": "stream",
          "text": [
            "INFO:tensorflow:Assets written to: ./models/dcgan_dmlap_2/e12_generator.hd5/assets\n"
          ]
        },
        {
          "name": "stdout",
          "output_type": "stream",
          "text": [
            "Epoch 13\n",
            "Epoch 13 - 7 of 7 [D loss: 0.03624699683859944 | D Accuracy: 0.0] [G loss: 1.4036837816238403]Saving epoch 13 to ./models/dcgan_dmlap_2\n",
            "WARNING:tensorflow:Compiled the loaded model, but the compiled metrics have yet to be built. `model.compile_metrics` will be empty until you train or evaluate the model.\n"
          ]
        },
        {
          "name": "stderr",
          "output_type": "stream",
          "text": [
            "WARNING:tensorflow:Compiled the loaded model, but the compiled metrics have yet to be built. `model.compile_metrics` will be empty until you train or evaluate the model.\n",
            "WARNING:absl:Found untraced functions such as _jit_compiled_convolution_op, _jit_compiled_convolution_op, _jit_compiled_convolution_op, _jit_compiled_convolution_op, _jit_compiled_convolution_op while saving (showing 5 of 7). These functions will not be directly callable after loading.\n"
          ]
        },
        {
          "name": "stdout",
          "output_type": "stream",
          "text": [
            "INFO:tensorflow:Assets written to: ./models/dcgan_dmlap_2/e13_generator.hd5/assets\n"
          ]
        },
        {
          "name": "stderr",
          "output_type": "stream",
          "text": [
            "INFO:tensorflow:Assets written to: ./models/dcgan_dmlap_2/e13_generator.hd5/assets\n"
          ]
        },
        {
          "name": "stdout",
          "output_type": "stream",
          "text": [
            "Epoch 14\n",
            "Epoch 14 - 7 of 7 [D loss: 0.26195386052131653 | D Accuracy: 0.0] [G loss: 1.1488912105560303]Saving epoch 14 to ./models/dcgan_dmlap_2\n",
            "WARNING:tensorflow:Compiled the loaded model, but the compiled metrics have yet to be built. `model.compile_metrics` will be empty until you train or evaluate the model.\n"
          ]
        },
        {
          "name": "stderr",
          "output_type": "stream",
          "text": [
            "WARNING:tensorflow:Compiled the loaded model, but the compiled metrics have yet to be built. `model.compile_metrics` will be empty until you train or evaluate the model.\n",
            "WARNING:absl:Found untraced functions such as _jit_compiled_convolution_op, _jit_compiled_convolution_op, _jit_compiled_convolution_op, _jit_compiled_convolution_op, _jit_compiled_convolution_op while saving (showing 5 of 7). These functions will not be directly callable after loading.\n"
          ]
        },
        {
          "name": "stdout",
          "output_type": "stream",
          "text": [
            "INFO:tensorflow:Assets written to: ./models/dcgan_dmlap_2/e14_generator.hd5/assets\n"
          ]
        },
        {
          "name": "stderr",
          "output_type": "stream",
          "text": [
            "INFO:tensorflow:Assets written to: ./models/dcgan_dmlap_2/e14_generator.hd5/assets\n"
          ]
        },
        {
          "name": "stdout",
          "output_type": "stream",
          "text": [
            "Epoch 15\n",
            "Epoch 15 - 7 of 7 [D loss: 2.944468855857849 | D Accuracy: 0.0] [G loss: 0.6948286294937134]Saving epoch 15 to ./models/dcgan_dmlap_2\n",
            "WARNING:tensorflow:Compiled the loaded model, but the compiled metrics have yet to be built. `model.compile_metrics` will be empty until you train or evaluate the model.\n"
          ]
        },
        {
          "name": "stderr",
          "output_type": "stream",
          "text": [
            "WARNING:tensorflow:Compiled the loaded model, but the compiled metrics have yet to be built. `model.compile_metrics` will be empty until you train or evaluate the model.\n",
            "WARNING:absl:Found untraced functions such as _jit_compiled_convolution_op, _jit_compiled_convolution_op, _jit_compiled_convolution_op, _jit_compiled_convolution_op, _jit_compiled_convolution_op while saving (showing 5 of 7). These functions will not be directly callable after loading.\n"
          ]
        },
        {
          "name": "stdout",
          "output_type": "stream",
          "text": [
            "INFO:tensorflow:Assets written to: ./models/dcgan_dmlap_2/e15_generator.hd5/assets\n"
          ]
        },
        {
          "name": "stderr",
          "output_type": "stream",
          "text": [
            "INFO:tensorflow:Assets written to: ./models/dcgan_dmlap_2/e15_generator.hd5/assets\n"
          ]
        },
        {
          "name": "stdout",
          "output_type": "stream",
          "text": [
            "Epoch 16\n",
            "Epoch 16 - 7 of 7 [D loss: 0.077696543186903 | D Accuracy: 0.0] [G loss: 3.491215705871582]Saving epoch 16 to ./models/dcgan_dmlap_2\n",
            "WARNING:tensorflow:Compiled the loaded model, but the compiled metrics have yet to be built. `model.compile_metrics` will be empty until you train or evaluate the model.\n"
          ]
        },
        {
          "name": "stderr",
          "output_type": "stream",
          "text": [
            "WARNING:tensorflow:Compiled the loaded model, but the compiled metrics have yet to be built. `model.compile_metrics` will be empty until you train or evaluate the model.\n",
            "WARNING:absl:Found untraced functions such as _jit_compiled_convolution_op, _jit_compiled_convolution_op, _jit_compiled_convolution_op, _jit_compiled_convolution_op, _jit_compiled_convolution_op while saving (showing 5 of 7). These functions will not be directly callable after loading.\n"
          ]
        },
        {
          "name": "stdout",
          "output_type": "stream",
          "text": [
            "INFO:tensorflow:Assets written to: ./models/dcgan_dmlap_2/e16_generator.hd5/assets\n"
          ]
        },
        {
          "name": "stderr",
          "output_type": "stream",
          "text": [
            "INFO:tensorflow:Assets written to: ./models/dcgan_dmlap_2/e16_generator.hd5/assets\n"
          ]
        },
        {
          "name": "stdout",
          "output_type": "stream",
          "text": [
            "Epoch 17\n",
            "Epoch 17 - 7 of 7 [D loss: 0.1663377285003662 | D Accuracy: 0.0] [G loss: 1.0753763914108276]Saving epoch 17 to ./models/dcgan_dmlap_2\n",
            "WARNING:tensorflow:Compiled the loaded model, but the compiled metrics have yet to be built. `model.compile_metrics` will be empty until you train or evaluate the model.\n"
          ]
        },
        {
          "name": "stderr",
          "output_type": "stream",
          "text": [
            "WARNING:tensorflow:Compiled the loaded model, but the compiled metrics have yet to be built. `model.compile_metrics` will be empty until you train or evaluate the model.\n",
            "WARNING:absl:Found untraced functions such as _jit_compiled_convolution_op, _jit_compiled_convolution_op, _jit_compiled_convolution_op, _jit_compiled_convolution_op, _jit_compiled_convolution_op while saving (showing 5 of 7). These functions will not be directly callable after loading.\n"
          ]
        },
        {
          "name": "stdout",
          "output_type": "stream",
          "text": [
            "INFO:tensorflow:Assets written to: ./models/dcgan_dmlap_2/e17_generator.hd5/assets\n"
          ]
        },
        {
          "name": "stderr",
          "output_type": "stream",
          "text": [
            "INFO:tensorflow:Assets written to: ./models/dcgan_dmlap_2/e17_generator.hd5/assets\n"
          ]
        },
        {
          "name": "stdout",
          "output_type": "stream",
          "text": [
            "Epoch 18\n",
            "Epoch 18 - 7 of 7 [D loss: 0.3867080360651016 | D Accuracy: 0.0] [G loss: 1.002825140953064]Saving epoch 18 to ./models/dcgan_dmlap_2\n",
            "WARNING:tensorflow:Compiled the loaded model, but the compiled metrics have yet to be built. `model.compile_metrics` will be empty until you train or evaluate the model.\n"
          ]
        },
        {
          "name": "stderr",
          "output_type": "stream",
          "text": [
            "WARNING:tensorflow:Compiled the loaded model, but the compiled metrics have yet to be built. `model.compile_metrics` will be empty until you train or evaluate the model.\n",
            "WARNING:absl:Found untraced functions such as _jit_compiled_convolution_op, _jit_compiled_convolution_op, _jit_compiled_convolution_op, _jit_compiled_convolution_op, _jit_compiled_convolution_op while saving (showing 5 of 7). These functions will not be directly callable after loading.\n"
          ]
        },
        {
          "name": "stdout",
          "output_type": "stream",
          "text": [
            "INFO:tensorflow:Assets written to: ./models/dcgan_dmlap_2/e18_generator.hd5/assets\n"
          ]
        },
        {
          "name": "stderr",
          "output_type": "stream",
          "text": [
            "INFO:tensorflow:Assets written to: ./models/dcgan_dmlap_2/e18_generator.hd5/assets\n"
          ]
        },
        {
          "name": "stdout",
          "output_type": "stream",
          "text": [
            "Epoch 19\n",
            "Epoch 19 - 7 of 7 [D loss: 0.04738122224807739 | D Accuracy: 0.0] [G loss: 0.5354114770889282]Saving epoch 19 to ./models/dcgan_dmlap_2\n",
            "WARNING:tensorflow:Compiled the loaded model, but the compiled metrics have yet to be built. `model.compile_metrics` will be empty until you train or evaluate the model.\n"
          ]
        },
        {
          "name": "stderr",
          "output_type": "stream",
          "text": [
            "WARNING:tensorflow:Compiled the loaded model, but the compiled metrics have yet to be built. `model.compile_metrics` will be empty until you train or evaluate the model.\n",
            "WARNING:absl:Found untraced functions such as _jit_compiled_convolution_op, _jit_compiled_convolution_op, _jit_compiled_convolution_op, _jit_compiled_convolution_op, _jit_compiled_convolution_op while saving (showing 5 of 7). These functions will not be directly callable after loading.\n"
          ]
        },
        {
          "name": "stdout",
          "output_type": "stream",
          "text": [
            "INFO:tensorflow:Assets written to: ./models/dcgan_dmlap_2/e19_generator.hd5/assets\n"
          ]
        },
        {
          "name": "stderr",
          "output_type": "stream",
          "text": [
            "INFO:tensorflow:Assets written to: ./models/dcgan_dmlap_2/e19_generator.hd5/assets\n"
          ]
        },
        {
          "name": "stdout",
          "output_type": "stream",
          "text": [
            "Epoch 20\n",
            "Epoch 20 - 7 of 7 [D loss: 0.01495237648487091 | D Accuracy: 0.0] [G loss: 1.1895887851715088]Saving epoch 20 to ./models/dcgan_dmlap_2\n",
            "WARNING:tensorflow:Compiled the loaded model, but the compiled metrics have yet to be built. `model.compile_metrics` will be empty until you train or evaluate the model.\n"
          ]
        },
        {
          "name": "stderr",
          "output_type": "stream",
          "text": [
            "WARNING:tensorflow:Compiled the loaded model, but the compiled metrics have yet to be built. `model.compile_metrics` will be empty until you train or evaluate the model.\n",
            "WARNING:absl:Found untraced functions such as _jit_compiled_convolution_op, _jit_compiled_convolution_op, _jit_compiled_convolution_op, _jit_compiled_convolution_op, _jit_compiled_convolution_op while saving (showing 5 of 7). These functions will not be directly callable after loading.\n"
          ]
        },
        {
          "name": "stdout",
          "output_type": "stream",
          "text": [
            "INFO:tensorflow:Assets written to: ./models/dcgan_dmlap_2/e20_generator.hd5/assets\n"
          ]
        },
        {
          "name": "stderr",
          "output_type": "stream",
          "text": [
            "INFO:tensorflow:Assets written to: ./models/dcgan_dmlap_2/e20_generator.hd5/assets\n"
          ]
        },
        {
          "name": "stdout",
          "output_type": "stream",
          "text": [
            "Epoch 21\n",
            "Epoch 21 - 7 of 7 [D loss: 0.06144413538277149 | D Accuracy: 0.0] [G loss: 0.34459587931632996]Saving epoch 21 to ./models/dcgan_dmlap_2\n",
            "WARNING:tensorflow:Compiled the loaded model, but the compiled metrics have yet to be built. `model.compile_metrics` will be empty until you train or evaluate the model.\n"
          ]
        },
        {
          "name": "stderr",
          "output_type": "stream",
          "text": [
            "WARNING:tensorflow:Compiled the loaded model, but the compiled metrics have yet to be built. `model.compile_metrics` will be empty until you train or evaluate the model.\n",
            "WARNING:absl:Found untraced functions such as _jit_compiled_convolution_op, _jit_compiled_convolution_op, _jit_compiled_convolution_op, _jit_compiled_convolution_op, _jit_compiled_convolution_op while saving (showing 5 of 7). These functions will not be directly callable after loading.\n"
          ]
        },
        {
          "name": "stdout",
          "output_type": "stream",
          "text": [
            "INFO:tensorflow:Assets written to: ./models/dcgan_dmlap_2/e21_generator.hd5/assets\n"
          ]
        },
        {
          "name": "stderr",
          "output_type": "stream",
          "text": [
            "INFO:tensorflow:Assets written to: ./models/dcgan_dmlap_2/e21_generator.hd5/assets\n"
          ]
        },
        {
          "name": "stdout",
          "output_type": "stream",
          "text": [
            "Epoch 22\n",
            "Epoch 22 - 7 of 7 [D loss: 0.011027229949831963 | D Accuracy: 0.0] [G loss: 1.6828444004058838]Saving epoch 22 to ./models/dcgan_dmlap_2\n",
            "WARNING:tensorflow:Compiled the loaded model, but the compiled metrics have yet to be built. `model.compile_metrics` will be empty until you train or evaluate the model.\n"
          ]
        },
        {
          "name": "stderr",
          "output_type": "stream",
          "text": [
            "WARNING:tensorflow:Compiled the loaded model, but the compiled metrics have yet to be built. `model.compile_metrics` will be empty until you train or evaluate the model.\n",
            "WARNING:absl:Found untraced functions such as _jit_compiled_convolution_op, _jit_compiled_convolution_op, _jit_compiled_convolution_op, _jit_compiled_convolution_op, _jit_compiled_convolution_op while saving (showing 5 of 7). These functions will not be directly callable after loading.\n"
          ]
        },
        {
          "name": "stdout",
          "output_type": "stream",
          "text": [
            "INFO:tensorflow:Assets written to: ./models/dcgan_dmlap_2/e22_generator.hd5/assets\n"
          ]
        },
        {
          "name": "stderr",
          "output_type": "stream",
          "text": [
            "INFO:tensorflow:Assets written to: ./models/dcgan_dmlap_2/e22_generator.hd5/assets\n"
          ]
        },
        {
          "name": "stdout",
          "output_type": "stream",
          "text": [
            "Epoch 23\n",
            "Epoch 23 - 7 of 7 [D loss: 5.759896516799927 | D Accuracy: 0.0] [G loss: 0.869853675365448]Saving epoch 23 to ./models/dcgan_dmlap_2\n",
            "WARNING:tensorflow:Compiled the loaded model, but the compiled metrics have yet to be built. `model.compile_metrics` will be empty until you train or evaluate the model.\n"
          ]
        },
        {
          "name": "stderr",
          "output_type": "stream",
          "text": [
            "WARNING:tensorflow:Compiled the loaded model, but the compiled metrics have yet to be built. `model.compile_metrics` will be empty until you train or evaluate the model.\n",
            "WARNING:absl:Found untraced functions such as _jit_compiled_convolution_op, _jit_compiled_convolution_op, _jit_compiled_convolution_op, _jit_compiled_convolution_op, _jit_compiled_convolution_op while saving (showing 5 of 7). These functions will not be directly callable after loading.\n"
          ]
        },
        {
          "name": "stdout",
          "output_type": "stream",
          "text": [
            "INFO:tensorflow:Assets written to: ./models/dcgan_dmlap_2/e23_generator.hd5/assets\n"
          ]
        },
        {
          "name": "stderr",
          "output_type": "stream",
          "text": [
            "INFO:tensorflow:Assets written to: ./models/dcgan_dmlap_2/e23_generator.hd5/assets\n"
          ]
        },
        {
          "name": "stdout",
          "output_type": "stream",
          "text": [
            "Epoch 24\n",
            "Epoch 24 - 7 of 7 [D loss: 0.3464338034391403 | D Accuracy: 0.0] [G loss: 0.5862081050872803]Saving epoch 24 to ./models/dcgan_dmlap_2\n",
            "WARNING:tensorflow:Compiled the loaded model, but the compiled metrics have yet to be built. `model.compile_metrics` will be empty until you train or evaluate the model.\n"
          ]
        },
        {
          "name": "stderr",
          "output_type": "stream",
          "text": [
            "WARNING:tensorflow:Compiled the loaded model, but the compiled metrics have yet to be built. `model.compile_metrics` will be empty until you train or evaluate the model.\n",
            "WARNING:absl:Found untraced functions such as _jit_compiled_convolution_op, _jit_compiled_convolution_op, _jit_compiled_convolution_op, _jit_compiled_convolution_op, _jit_compiled_convolution_op while saving (showing 5 of 7). These functions will not be directly callable after loading.\n"
          ]
        },
        {
          "name": "stdout",
          "output_type": "stream",
          "text": [
            "INFO:tensorflow:Assets written to: ./models/dcgan_dmlap_2/e24_generator.hd5/assets\n"
          ]
        },
        {
          "name": "stderr",
          "output_type": "stream",
          "text": [
            "INFO:tensorflow:Assets written to: ./models/dcgan_dmlap_2/e24_generator.hd5/assets\n"
          ]
        },
        {
          "name": "stdout",
          "output_type": "stream",
          "text": [
            "Epoch 25\n",
            "Epoch 25 - 7 of 7 [D loss: 0.026240582577884197 | D Accuracy: 0.0] [G loss: 0.2963801622390747]Saving epoch 25 to ./models/dcgan_dmlap_2\n",
            "WARNING:tensorflow:Compiled the loaded model, but the compiled metrics have yet to be built. `model.compile_metrics` will be empty until you train or evaluate the model.\n"
          ]
        },
        {
          "name": "stderr",
          "output_type": "stream",
          "text": [
            "WARNING:tensorflow:Compiled the loaded model, but the compiled metrics have yet to be built. `model.compile_metrics` will be empty until you train or evaluate the model.\n",
            "WARNING:absl:Found untraced functions such as _jit_compiled_convolution_op, _jit_compiled_convolution_op, _jit_compiled_convolution_op, _jit_compiled_convolution_op, _jit_compiled_convolution_op while saving (showing 5 of 7). These functions will not be directly callable after loading.\n"
          ]
        },
        {
          "name": "stdout",
          "output_type": "stream",
          "text": [
            "INFO:tensorflow:Assets written to: ./models/dcgan_dmlap_2/e25_generator.hd5/assets\n"
          ]
        },
        {
          "name": "stderr",
          "output_type": "stream",
          "text": [
            "INFO:tensorflow:Assets written to: ./models/dcgan_dmlap_2/e25_generator.hd5/assets\n"
          ]
        },
        {
          "name": "stdout",
          "output_type": "stream",
          "text": [
            "Epoch 26\n",
            "Epoch 26 - 7 of 7 [D loss: -0.030753755941987038 | D Accuracy: 0.0] [G loss: 0.09943316876888275]Saving epoch 26 to ./models/dcgan_dmlap_2\n",
            "WARNING:tensorflow:Compiled the loaded model, but the compiled metrics have yet to be built. `model.compile_metrics` will be empty until you train or evaluate the model.\n"
          ]
        },
        {
          "name": "stderr",
          "output_type": "stream",
          "text": [
            "WARNING:tensorflow:Compiled the loaded model, but the compiled metrics have yet to be built. `model.compile_metrics` will be empty until you train or evaluate the model.\n",
            "WARNING:absl:Found untraced functions such as _jit_compiled_convolution_op, _jit_compiled_convolution_op, _jit_compiled_convolution_op, _jit_compiled_convolution_op, _jit_compiled_convolution_op while saving (showing 5 of 7). These functions will not be directly callable after loading.\n"
          ]
        },
        {
          "name": "stdout",
          "output_type": "stream",
          "text": [
            "INFO:tensorflow:Assets written to: ./models/dcgan_dmlap_2/e26_generator.hd5/assets\n"
          ]
        },
        {
          "name": "stderr",
          "output_type": "stream",
          "text": [
            "INFO:tensorflow:Assets written to: ./models/dcgan_dmlap_2/e26_generator.hd5/assets\n"
          ]
        },
        {
          "name": "stdout",
          "output_type": "stream",
          "text": [
            "Epoch 27\n",
            "Epoch 27 - 7 of 7 [D loss: -0.0015431605279445648 | D Accuracy: 0.0] [G loss: 0.02085435390472412]Saving epoch 27 to ./models/dcgan_dmlap_2\n",
            "WARNING:tensorflow:Compiled the loaded model, but the compiled metrics have yet to be built. `model.compile_metrics` will be empty until you train or evaluate the model.\n"
          ]
        },
        {
          "name": "stderr",
          "output_type": "stream",
          "text": [
            "WARNING:tensorflow:Compiled the loaded model, but the compiled metrics have yet to be built. `model.compile_metrics` will be empty until you train or evaluate the model.\n",
            "WARNING:absl:Found untraced functions such as _jit_compiled_convolution_op, _jit_compiled_convolution_op, _jit_compiled_convolution_op, _jit_compiled_convolution_op, _jit_compiled_convolution_op while saving (showing 5 of 7). These functions will not be directly callable after loading.\n"
          ]
        },
        {
          "name": "stdout",
          "output_type": "stream",
          "text": [
            "INFO:tensorflow:Assets written to: ./models/dcgan_dmlap_2/e27_generator.hd5/assets\n"
          ]
        },
        {
          "name": "stderr",
          "output_type": "stream",
          "text": [
            "INFO:tensorflow:Assets written to: ./models/dcgan_dmlap_2/e27_generator.hd5/assets\n"
          ]
        },
        {
          "name": "stdout",
          "output_type": "stream",
          "text": [
            "Epoch 28\n",
            "Epoch 28 - 7 of 7 [D loss: -0.02987215295433998 | D Accuracy: 0.0] [G loss: 0.04696935415267944]Saving epoch 28 to ./models/dcgan_dmlap_2\n",
            "WARNING:tensorflow:Compiled the loaded model, but the compiled metrics have yet to be built. `model.compile_metrics` will be empty until you train or evaluate the model.\n"
          ]
        },
        {
          "name": "stderr",
          "output_type": "stream",
          "text": [
            "WARNING:tensorflow:Compiled the loaded model, but the compiled metrics have yet to be built. `model.compile_metrics` will be empty until you train or evaluate the model.\n",
            "WARNING:absl:Found untraced functions such as _jit_compiled_convolution_op, _jit_compiled_convolution_op, _jit_compiled_convolution_op, _jit_compiled_convolution_op, _jit_compiled_convolution_op while saving (showing 5 of 7). These functions will not be directly callable after loading.\n"
          ]
        },
        {
          "name": "stdout",
          "output_type": "stream",
          "text": [
            "INFO:tensorflow:Assets written to: ./models/dcgan_dmlap_2/e28_generator.hd5/assets\n"
          ]
        },
        {
          "name": "stderr",
          "output_type": "stream",
          "text": [
            "INFO:tensorflow:Assets written to: ./models/dcgan_dmlap_2/e28_generator.hd5/assets\n"
          ]
        },
        {
          "name": "stdout",
          "output_type": "stream",
          "text": [
            "Epoch 29\n",
            "Epoch 29 - 7 of 7 [D loss: 0.008268848061561584 | D Accuracy: 0.0] [G loss: 0.015474828891456127]Saving epoch 29 to ./models/dcgan_dmlap_2\n",
            "WARNING:tensorflow:Compiled the loaded model, but the compiled metrics have yet to be built. `model.compile_metrics` will be empty until you train or evaluate the model.\n"
          ]
        },
        {
          "name": "stderr",
          "output_type": "stream",
          "text": [
            "WARNING:tensorflow:Compiled the loaded model, but the compiled metrics have yet to be built. `model.compile_metrics` will be empty until you train or evaluate the model.\n",
            "WARNING:absl:Found untraced functions such as _jit_compiled_convolution_op, _jit_compiled_convolution_op, _jit_compiled_convolution_op, _jit_compiled_convolution_op, _jit_compiled_convolution_op while saving (showing 5 of 7). These functions will not be directly callable after loading.\n"
          ]
        },
        {
          "name": "stdout",
          "output_type": "stream",
          "text": [
            "INFO:tensorflow:Assets written to: ./models/dcgan_dmlap_2/e29_generator.hd5/assets\n"
          ]
        },
        {
          "name": "stderr",
          "output_type": "stream",
          "text": [
            "INFO:tensorflow:Assets written to: ./models/dcgan_dmlap_2/e29_generator.hd5/assets\n"
          ]
        },
        {
          "name": "stdout",
          "output_type": "stream",
          "text": [
            "Epoch 30\n",
            "Epoch 30 - 7 of 7 [D loss: -0.032565606757998466 | D Accuracy: 0.0] [G loss: 0.03992844745516777]Saving epoch 30 to ./models/dcgan_dmlap_2\n",
            "WARNING:tensorflow:Compiled the loaded model, but the compiled metrics have yet to be built. `model.compile_metrics` will be empty until you train or evaluate the model.\n"
          ]
        },
        {
          "name": "stderr",
          "output_type": "stream",
          "text": [
            "WARNING:tensorflow:Compiled the loaded model, but the compiled metrics have yet to be built. `model.compile_metrics` will be empty until you train or evaluate the model.\n",
            "WARNING:absl:Found untraced functions such as _jit_compiled_convolution_op, _jit_compiled_convolution_op, _jit_compiled_convolution_op, _jit_compiled_convolution_op, _jit_compiled_convolution_op while saving (showing 5 of 7). These functions will not be directly callable after loading.\n"
          ]
        },
        {
          "name": "stdout",
          "output_type": "stream",
          "text": [
            "INFO:tensorflow:Assets written to: ./models/dcgan_dmlap_2/e30_generator.hd5/assets\n"
          ]
        },
        {
          "name": "stderr",
          "output_type": "stream",
          "text": [
            "INFO:tensorflow:Assets written to: ./models/dcgan_dmlap_2/e30_generator.hd5/assets\n"
          ]
        }
      ],
      "source": [
        "optimizer = tf.keras.optimizers.legacy.Adam(0.0001, 0.5, decay=0.00005)\n",
        "\n",
        "discriminator.compile(loss='binary_crossentropy',\n",
        "                      optimizer=optimizer,\n",
        "\n",
        "                      metrics=['accuracy'])\n",
        "\n",
        "\n",
        "# The generator takes noise as input and generates imgs\n",
        "z = Input(shape=(latent_dim,))\n",
        "img = generator(z)\n",
        "\n",
        "# For the combined model we will only train the generator\n",
        "discriminator.trainable = False\n",
        "\n",
        "# The discriminator takes generated images as input and determines validity\n",
        "valid = discriminator(img)\n",
        "\n",
        "# The combined model  (stacked generator and discriminator)\n",
        "# Trains the generator to fool the discriminator\n",
        "combined = Model(z, valid)\n",
        "combined.compile(loss='binary_crossentropy', optimizer=optimizer)\n",
        "#%%\n",
        "\n",
        "epochs = 30 #50\n",
        "save_interval = 1\n",
        "\n",
        "model_path = \"./models/dcgan_dmlap\"\n",
        "os.makedirs(model_path, exist_ok=True)\n",
        "import sys\n",
        "\n",
        "for epoch in range(epochs):\n",
        "    n = dataset.cardinality() # The number of batches per epoch\n",
        "    print(\"Epoch %d\"%(epoch+1))\n",
        "    # Iterate over all batches\n",
        "    for i, batch in enumerate(dataset.as_numpy_iterator()):\n",
        "        # Convert batch to numpy for convenience\n",
        "        half_batch_size = len(batch)//2\n",
        "\n",
        "        noise = np.random.normal(0, 1, (batch_size, 100))\n",
        "        g_loss = combined.train_on_batch(noise, np.ones((batch_size, 1)))\n",
        "\n",
        "        # Get random half of the batch\n",
        "        idx = np.random.randint(0, batch.shape[0], half_batch_size)\n",
        "        imgs = batch[idx]\n",
        "        # For the remaining half batch, sample noise and generate new images\n",
        "        noise = np.random.normal(0, 1, (half_batch_size, 100))\n",
        "        gen_imgs = generator.predict(noise, verbose=0)\n",
        "\n",
        "        # Train the discriminator (real classified as ones and generated as zeros)\n",
        "        real_labels = np.ones((half_batch_size, 1))\n",
        "        fake_labels = np.zeros((half_batch_size, 1))\n",
        "        noise_amt = 0.01\n",
        "        real_labels += tf.random.uniform(tf.shape(real_labels))*noise_amt\n",
        "        fake_labels += tf.random.uniform(tf.shape(fake_labels))*noise_amt\n",
        "        d_loss_real = discriminator.train_on_batch(imgs, real_labels)\n",
        "        d_loss_fake = discriminator.train_on_batch(gen_imgs, fake_labels)\n",
        "        d_loss = 0.5 * np.add(d_loss_real, d_loss_fake)\n",
        "\n",
        "        # Print progress on same line\n",
        "        sys.stdout.write(\"\\r\" + \"Epoch %d - %d of %d \"%(epoch+1, i+1, n) + \"[D loss: \"+str(d_loss[0])+\" | D Accuracy: \"+str(100 * d_loss[1])+\"] [G loss: \"+str(g_loss)+\"]\")\n",
        "\n",
        "    if epoch % save_interval == 0:\n",
        "        print('Saving epoch %d to %s'%(epoch+1, model_path))\n",
        "        num_examples = 5\n",
        "        random_latent_vectors = tf.random.normal(shape=(num_examples, latent_dim))\n",
        "        generated_images = generator(random_latent_vectors, training=False)\n",
        "        #generated_images *= 255\n",
        "        generated_images = generated_images * 127.5 + 127.5 #255\n",
        "        generated_images.numpy()\n",
        "        for i in range(num_examples):\n",
        "            img = keras.preprocessing.image.array_to_img(generated_images[i])\n",
        "            img.save(os.path.join(model_path, \"e%03d_generated_img_%d.png\" % (epoch+1, i)))\n",
        "\n",
        "        generator.save(os.path.join(model_path, \"e%0d_generator.hd5\"%(epoch+1)))\n"
      ]
    },
    {
      "cell_type": "code",
      "execution_count": null,
      "metadata": {},
      "outputs": [],
      "source": []
    }
  ],
  "metadata": {
    "kernelspec": {
      "display_name": "base",
      "language": "python",
      "name": "python3"
    },
    "language_info": {
      "codemirror_mode": {
        "name": "ipython",
        "version": 3
      },
      "file_extension": ".py",
      "mimetype": "text/x-python",
      "name": "python",
      "nbconvert_exporter": "python",
      "pygments_lexer": "ipython3",
      "version": "3.10.8"
    },
    "org": null,
    "vscode": {
      "interpreter": {
        "hash": "1c544d3133b9d8c6f36fca025551af31afa9ef134259e7064ad6be0c15e6401c"
      }
    }
  },
  "nbformat": 4,
  "nbformat_minor": 0
}
