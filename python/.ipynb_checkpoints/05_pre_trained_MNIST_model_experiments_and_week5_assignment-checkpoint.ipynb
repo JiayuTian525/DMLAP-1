{
 "cells": [
  {
   "cell_type": "markdown",
   "metadata": {},
   "source": [
    "Week 5: Playing with MNIST\n",
    "==================\n",
    "\n"
   ]
  },
  {
   "cell_type": "markdown",
   "metadata": {},
   "source": [
    "This notebook expects you to have previously trained the MNIST model and saved the resulting file. You should also make sure that you have the latest version of `canvas.py` file and the necessary images in the same directory as this notebook. \n",
    "You can download all the necessary files by executing this:"
   ]
  },
  {
   "cell_type": "code",
   "execution_count": 1,
   "metadata": {},
   "outputs": [
    {
     "name": "stdout",
     "output_type": "stream",
     "text": [
      "  % Total    % Received % Xferd  Average Speed   Time    Time     Time  Current\n",
      "                                 Dload  Upload   Total   Spent    Left  Speed\n",
      "100 22192  100 22192    0     0  90750      0 --:--:-- --:--:-- --:--:-- 94837\n",
      "  % Total    % Received % Xferd  Average Speed   Time    Time     Time  Current\n",
      "                                 Dload  Upload   Total   Spent    Left  Speed\n",
      "100  331k  100  331k    0     0  1248k      0 --:--:-- --:--:-- --:--:-- 1298k\n",
      "Archive:  images.zip\n",
      "  inflating: images/spock.jpg        \n",
      "  inflating: images/elephant.jpg     \n",
      "  inflating: __MACOSX/images/._elephant.jpg  \n",
      "  inflating: images/number3.png      \n",
      "  inflating: images/4.png            \n",
      "  inflating: __MACOSX/images/._4.png  \n"
     ]
    }
   ],
   "source": [
    "!curl -O https://raw.githubusercontent.com/colormotor/DMLAP/main/python/canvas.py\n",
    "!curl -O https://raw.githubusercontent.com/colormotor/DMLAP/main/python/images.zip\n",
    "!unzip -o images.zip"
   ]
  },
  {
   "cell_type": "markdown",
   "metadata": {},
   "source": [
    "## Note for Google Colab users:\n",
    "For this notebook to work in Google Colab you will need to execute the following code cell when starting up a new session:"
   ]
  },
  {
   "cell_type": "code",
   "execution_count": null,
   "metadata": {},
   "outputs": [],
   "source": [
    "!apt-get install libcairo2-dev libjpeg-dev libgif-dev\n",
    "!pip install pycairo"
   ]
  },
  {
   "cell_type": "markdown",
   "metadata": {},
   "source": [
    "You will then need to either manually upload the model `h5` model file, or setup your notebook to mount a Google drive. \n",
    "For the latter option you can find instructions on the web, for example [here](https://towardsdatascience.com/different-ways-to-connect-google-drive-to-a-google-colab-notebook-pt-1-de03433d2f7a)."
   ]
  },
  {
   "cell_type": "markdown",
   "metadata": {},
   "source": [
    "# Main content\n",
    "Let&rsquo;s load the previously trained MNIST model and summarize it.\n",
    "\n"
   ]
  },
  {
   "cell_type": "code",
   "execution_count": 2,
   "metadata": {},
   "outputs": [
    {
     "name": "stdout",
     "output_type": "stream",
     "text": [
      "Model: \"sequential\"\n",
      "_________________________________________________________________\n",
      " Layer (type)                Output Shape              Param #   \n",
      "=================================================================\n",
      " conv2d (Conv2D)             (None, 26, 26, 32)        320       \n",
      "                                                                 \n",
      " max_pooling2d (MaxPooling2D  (None, 13, 13, 32)       0         \n",
      " )                                                               \n",
      "                                                                 \n",
      " conv2d_1 (Conv2D)           (None, 11, 11, 64)        18496     \n",
      "                                                                 \n",
      " max_pooling2d_1 (MaxPooling  (None, 5, 5, 64)         0         \n",
      " 2D)                                                             \n",
      "                                                                 \n",
      " flatten (Flatten)           (None, 1600)              0         \n",
      "                                                                 \n",
      " dropout (Dropout)           (None, 1600)              0         \n",
      "                                                                 \n",
      " dense (Dense)               (None, 10)                16010     \n",
      "                                                                 \n",
      "=================================================================\n",
      "Total params: 34,826\n",
      "Trainable params: 34,826\n",
      "Non-trainable params: 0\n",
      "_________________________________________________________________\n"
     ]
    }
   ],
   "source": [
    "import numpy as np\n",
    "from tensorflow import keras\n",
    "from tensorflow.keras import layers\n",
    "from tensorflow.keras.preprocessing import image\n",
    "import canvas\n",
    "\n",
    "model = keras.models.load_model('./models/basic_mnist.h5')\n",
    "model.summary()"
   ]
  },
  {
   "cell_type": "markdown",
   "metadata": {},
   "source": [
    "Let&rsquo;s test the model and let&rsquo;s classify an image of a number\n",
    "\n"
   ]
  },
  {
   "cell_type": "code",
   "execution_count": 26,
   "metadata": {},
   "outputs": [
    {
     "data": {
      "image/png": "[encoded data removed]",
      "text/plain": [
       "<Figure size 432x288 with 1 Axes>"
      ]
     },
     "metadata": {
      "needs_background": "light"
     },
     "output_type": "display_data"
    }
   ],
   "source": [
    "img = image.load_img('images/4.png', target_size=(28, 28), color_mode='grayscale')\n",
    "# input to the model\n",
    "x = 1.0 - image.img_to_array(img)/255\n",
    "# The input to the model needs to have an additional dimension\n",
    "# Think of this as a list of images, so we can predict multiple instances\n",
    "x = np.expand_dims(x, 0)\n",
    "predictions = model.predict(x, verbose=False)\n",
    "predicted = np.argmax(predictions[0])\n",
    "canvas.show_image(img, title='Predicted number: ' + str(predicted), cmap='gray')"
   ]
  },
  {
   "cell_type": "markdown",
   "metadata": {},
   "source": [
    "Here we are using the `image` submodule of `tensorflow.keras.preprocessing` to load an image, resize it to a desired `target_size` and convert it to grayscale. Note that the original image is black on a white background, but MNIST is trained on images of white digits on a black background and in a range between `0` and `1`.\n",
    "So the line `1.0 - image.img_to_array(img)/255` takes care of normalizing our input that is in the `0` to `255` range and inverting it by subtracting it from `1`.\n",
    "\n",
    "Now, the assignment consists of two tasks. The first one is to **disrupt** an initially correct prediction of a number. The second is to **generate** an image that may or may not be recognizable to us as a number, but generates a prediction for a given number.\n",
    "\n"
   ]
  },
  {
   "cell_type": "markdown",
   "metadata": {},
   "source": [
    "## Disrupt\n",
    "\n"
   ]
  },
  {
   "cell_type": "markdown",
   "metadata": {},
   "source": [
    "Here we provide you with a canvas object that generates images with a number. As it is, this will always produce a correct prediction:\n",
    "\n"
   ]
  },
  {
   "cell_type": "code",
   "execution_count": 16,
   "metadata": {},
   "outputs": [
    {
     "data": {
      "image/png": "[encoded data removed]",
      "text/plain": [
       "<Figure size 368.64x368.64 with 1 Axes>"
      ]
     },
     "metadata": {
      "needs_background": "light"
     },
     "output_type": "display_data"
    }
   ],
   "source": [
    "import canvas\n",
    "from importlib import reload\n",
    "reload(canvas)\n",
    "# Generate a random number between 0 and 9 (the max is excluded)\n",
    "number = np.random.randint(0, 10) \n",
    "c = canvas.Canvas(28, 28)\n",
    "c.background(0)\n",
    "c.fill(255)\n",
    "c.text_size(26)\n",
    "c.text([c.width/2, c.height/2 + 9], str(number), center=True)\n",
    "x = c.get_image_grayscale()\n",
    "x = x.reshape(1, 28, 28, 1) # reshape the array with dummy dimensions so it is compatible with model\n",
    "predictions = model.predict(x, verbose=False)\n",
    "# Get the index in the array with highest confidence, that will be our predicted number\n",
    "predicted = np.argmax(predictions[0])\n",
    "c.show(title='Predicted number: ' + str(predicted), size=(512, 512))"
   ]
  },
  {
   "cell_type": "markdown",
   "metadata": {},
   "source": [
    "Again, here we are drawing white on black, because this is how MNIST is trained. We can do the opposite by inverting the image with `1.0 - c.get_image_grayscale()`:\n",
    "\n"
   ]
  },
  {
   "cell_type": "code",
   "execution_count": 17,
   "metadata": {},
   "outputs": [
    {
     "data": {
      "image/png": "[encoded data removed]",
      "text/plain": [
       "<Figure size 368.64x368.64 with 1 Axes>"
      ]
     },
     "metadata": {
      "needs_background": "light"
     },
     "output_type": "display_data"
    }
   ],
   "source": [
    "number = np.random.randint(0, 10)\n",
    "c = canvas.Canvas(28, 28)\n",
    "c.background(255)\n",
    "c.fill(0)\n",
    "c.text_size(26)\n",
    "c.text([c.width/2, c.height/2 + 9], str(number), center=True)\n",
    "x = 1.0 - c.get_image_grayscale() # Inverted\n",
    "x = x.reshape(1, 28, 28, 1) # reshape the array with dummy dimensions so it is compatible with model\n",
    "predictions = model.predict(x, verbose=False)\n",
    "# Get the index in the array with highest confidence, that will be our predicted number\n",
    "predicted = np.argmax(predictions[0])\n",
    "c.show(title='Predicted number: ' + str(predicted), size=(512, 512))"
   ]
  },
  {
   "cell_type": "markdown",
   "metadata": {},
   "source": [
    "Note that `c.get_image_grayscale()` gives us back an array already in the `[0, 1]` range, so we do not need to divide it by `255` as in the image example.\n",
    "\n",
    "Now to the task:\n",
    "\n",
    "-   Creatively disrupt the image, keeping it recognizable to a human, but causing the model to produce an incorrect prediction.\n",
    "-   Try to do this in steps, e.g. incrementally adding modifications to the image and observing when and how it stops being recongized by the model.\n",
    "-   Briefly discuss the steps you are taking, taking advantage of the hybrid markdown/code format of the notebook.\n",
    "\n",
    "You may want to work with the `Canvas` object directly, using some tools demonstrated in the relevant notebook, in which case you should keep in mind that you are only producing grayscale images and that the images have size 28x28.\n",
    "\n",
    "Otherwise you might as well work by preparing images externally (e.g. by hand, or using p5js) and then loading these as we have seen earlier for the image of a &ldquo;four&rdquo;. If you take this approach, make sure you start from an image that is consistently recognizable to a human as a given number and correctly classified by the model as that same number.\n",
    "\n"
   ]
  },
  {
   "cell_type": "markdown",
   "metadata": {},
   "source": [
    "## Generate\n",
    "\n"
   ]
  },
  {
   "cell_type": "markdown",
   "metadata": {},
   "source": [
    "In this case, your task is to generate at least two (but more is welcome) images that classify as two given numbers. As a simple example, this will always classify as a `0`:\n",
    "\n"
   ]
  },
  {
   "cell_type": "code",
   "execution_count": 23,
   "metadata": {},
   "outputs": [
    {
     "data": {
      "image/png": "[encoded data removed]",
      "text/plain": [
       "<Figure size 368.64x368.64 with 1 Axes>"
      ]
     },
     "metadata": {
      "needs_background": "light"
     },
     "output_type": "display_data"
    }
   ],
   "source": [
    "c = canvas.Canvas(28, 28)\n",
    "c.background(0)\n",
    "\n",
    "c.no_stroke()\n",
    "for t in np.linspace(1, 0.2, 5):\n",
    "    c.fill(255*t)\n",
    "    c.circle([c.width/2, c.height/2], 10*t)\n",
    "\n",
    "c.stroke(255)\n",
    "c.line([0, 0], [c.width-1, c.height-1])\n",
    "c.line([0, c.height-1], [c.width-1, 0])\n",
    "\n",
    "x = c.get_image_grayscale()\n",
    "predictions = model.predict(x.reshape(1, 28, 28, 1), verbose=False)\n",
    "# Get the index in the array with highest confidence, that will be our predicted number\n",
    "predicted = np.argmax(predictions[0])\n",
    "c.show(title='Predicted number: ' + str(predicted), size=(512, 512))"
   ]
  },
  {
   "cell_type": "markdown",
   "metadata": {},
   "source": [
    "Well, we would probably also classify this as a zero. Can you come up with cases where this is not the case?\n",
    "So now your task is:\n",
    "\n",
    "-   Creatively generate images that consistently classify to a given number. You are not allowed to use the `text` function in the `Canvas` object as in the previous example.\n",
    "-   Do this with at least two (or more) numbers and observe how the recognition ability of the model deviates from the one of a human.\n",
    "-   Briefly discuss your observations and idea by taking advantage of the notebook format.\n",
    "\n"
   ]
  },
  {
   "cell_type": "markdown",
   "metadata": {},
   "source": [
    "## Submission instructions\n",
    "\n"
   ]
  },
  {
   "cell_type": "markdown",
   "metadata": {},
   "source": [
    "Provide a zip folder containing *one* notebook together with the `canvas.py` file necessary to run the example, and the saved `hd5` MNIST model file. The notebook should clearly have two sections, one for each task. You can use this same notebook as a starting point, but move the notebook and the necessary files to a new directory and do not work directly in the DMLAP repository.\n",
    "\n",
    "The directory structure for your project should look something like this:\n",
    "\n",
    "    - your_submission\n",
    "    |-- your_notebook.ipynb\n",
    "    |-- canvas.py\n",
    "    |-- models\n",
    "    |   |-- basic_mnist.h5\n",
    "    |-- data\n",
    "    |   |-- any additional necessary files\n",
    "\n",
    "Note that we will need to execute the notebooks to evaluate them, so please make sure to include any external images if you use them. In addition, if you generate images with p5js, make sure you also provide the relevant sketches.\n",
    "\n"
   ]
  }
 ],
 "metadata": {
  "kernelspec": {
   "display_name": "Python 3",
   "language": "python",
   "name": "python3"
  },
  "language_info": {
   "codemirror_mode": {
    "name": "ipython",
    "version": 3
   },
   "file_extension": ".py",
   "mimetype": "text/x-python",
   "name": "python",
   "nbconvert_exporter": "python",
   "pygments_lexer": "ipython3",
   "version": "3.9.16"
  },
  "org": null,
  "vscode": {
   "interpreter": {
    "hash": "1c544d3133b9d8c6f36fca025551af31afa9ef134259e7064ad6be0c15e6401c"
   }
  }
 },
 "nbformat": 4,
 "nbformat_minor": 1
}
