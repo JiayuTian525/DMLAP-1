{
 "cells": [
  {
   "cell_type": "code",
   "execution_count": 1,
   "id": "b8e444ed",
   "metadata": {},
   "outputs": [
    {
     "name": "stdout",
     "output_type": "stream",
     "text": [
      "Model: \"sequential\"\n",
      "_________________________________________________________________\n",
      " Layer (type)                Output Shape              Param #   \n",
      "=================================================================\n",
      " conv2d (Conv2D)             (None, 26, 26, 32)        320       \n",
      "                                                                 \n",
      " max_pooling2d (MaxPooling2D  (None, 13, 13, 32)       0         \n",
      " )                                                               \n",
      "                                                                 \n",
      " conv2d_1 (Conv2D)           (None, 11, 11, 64)        18496     \n",
      "                                                                 \n",
      " max_pooling2d_1 (MaxPooling  (None, 5, 5, 64)         0         \n",
      " 2D)                                                             \n",
      "                                                                 \n",
      " flatten (Flatten)           (None, 1600)              0         \n",
      "                                                                 \n",
      " dropout (Dropout)           (None, 1600)              0         \n",
      "                                                                 \n",
      " dense (Dense)               (None, 10)                16010     \n",
      "                                                                 \n",
      "=================================================================\n",
      "Total params: 34,826\n",
      "Trainable params: 34,826\n",
      "Non-trainable params: 0\n",
      "_________________________________________________________________\n"
     ]
    }
   ],
   "source": [
    "#Importing necessary libraries\n",
    "import numpy as np\n",
    "from tensorflow import keras\n",
    "from tensorflow.keras import layers\n",
    "from tensorflow.keras.preprocessing import image\n",
    "import canvas\n",
    "#Loading pre-trained model from the specified file path\n",
    "model = keras.models.load_model('./models/basic_mnist.h5')\n",
    "model.summary()"
   ]
  },
  {
   "cell_type": "code",
   "execution_count": 37,
   "id": "064ef711",
   "metadata": {},
   "outputs": [
    {
     "data": {
      "image/png": "[encoded data removed]",
      "text/plain": [
       "<Figure size 432x288 with 1 Axes>"
      ]
     },
     "metadata": {
      "needs_background": "light"
     },
     "output_type": "display_data"
    }
   ],
   "source": [
    "#This is a image of a handwritten number 5\n",
    "img = image.load_img('images/number5.png', target_size=(28, 28), color_mode='grayscale')\n",
    "# input to the model\n",
    "# Convert the image to a numpy array and scale its values between 0 and 1\n",
    "x = 1.0 - image.img_to_array(img)/255\n",
    "# Add an extra dimension to the array to make it compatible with the model's input shape\n",
    "x = np.expand_dims(x, 0)\n",
    "# Make a prediction on the image using the trained model\n",
    "predictions = model.predict(x, verbose=False)\n",
    "# Find the index with the highest predicted probability, which represents the predicted number\n",
    "predicted = np.argmax(predictions[0])\n",
    "# Display the image and the predicted number using a canvas\n",
    "canvas.show_image(img, title='Predicted number: ' + str(predicted), cmap='gray')"
   ]
  },
  {
   "cell_type": "code",
   "execution_count": 21,
   "id": "e5549ebb",
   "metadata": {},
   "outputs": [
    {
     "data": {
      "image/png": "[encoded data removed]",
      "text/plain": [
       "<Figure size 432x288 with 1 Axes>"
      ]
     },
     "metadata": {
      "needs_background": "light"
     },
     "output_type": "display_data"
    }
   ],
   "source": [
    "#This is a image of a gradient number 5\n",
    "img = image.load_img('images/number8.png', target_size=(28, 28), color_mode='grayscale')\n",
    "# input to the model\n",
    "x = 1.0 - image.img_to_array(img)/255\n",
    "x = np.expand_dims(x, 0)\n",
    "predictions = model.predict(x, verbose=False)\n",
    "predicted = np.argmax(predictions[0])\n",
    "canvas.show_image(img, title='Predicted number: ' + str(predicted), cmap='gray')"
   ]
  },
  {
   "cell_type": "code",
   "execution_count": 34,
   "id": "56a8430d",
   "metadata": {},
   "outputs": [
    {
     "data": {
      "image/png": "[encoded data removed]",
      "text/plain": [
       "<Figure size 432x288 with 1 Axes>"
      ]
     },
     "metadata": {
      "needs_background": "light"
     },
     "output_type": "display_data"
    }
   ],
   "source": [
    "#This is a image of serval gradient number 9\n",
    "img = image.load_img('images/999.png', target_size=(28, 28), color_mode='grayscale')\n",
    "# input to the model\n",
    "x = 1.0 - image.img_to_array(img)/255\n",
    "x = np.expand_dims(x, 0)\n",
    "predictions = model.predict(x, verbose=False)\n",
    "predicted = np.argmax(predictions[0])\n",
    "canvas.show_image(img, title='Predicted number: ' + str(predicted), cmap='gray')"
   ]
  },
  {
   "cell_type": "code",
   "execution_count": 36,
   "id": "89b1d535",
   "metadata": {},
   "outputs": [
    {
     "data": {
      "image/png": "[encoded data removed]",
      "text/plain": [
       "<Figure size 368.64x368.64 with 1 Axes>"
      ]
     },
     "metadata": {
      "needs_background": "light"
     },
     "output_type": "display_data"
    }
   ],
   "source": [
    "#This is a image of random circles with red stroke\n",
    "c = canvas.Canvas(28, 28)\n",
    "c.background(0)\n",
    "\n",
    "c.stroke(255,0,0)\n",
    "for i in range(5):\n",
    "    x = np.random.randint(0, c.width)\n",
    "    y = np.random.randint(0, c.height)\n",
    "    r = np.random.randint(1, 10)\n",
    "    c.circle([x, y], r)\n",
    "\n",
    "x = c.get_image_grayscale()\n",
    "predictions = model.predict(x.reshape(1, 28, 28, 1), verbose=False)\n",
    "# Get the index in the array with highest confidence, that will be our predicted number\n",
    "predicted = np.argmax(predictions[0])\n",
    "c.show(title='Predicted number: ' + str(predicted), size=(512, 512))"
   ]
  },
  {
   "cell_type": "code",
   "execution_count": 35,
   "id": "4ad787bd",
   "metadata": {},
   "outputs": [
    {
     "data": {
      "image/png": "[encoded data removed]",
      "text/plain": [
       "<Figure size 368.64x368.64 with 1 Axes>"
      ]
     },
     "metadata": {
      "needs_background": "light"
     },
     "output_type": "display_data"
    }
   ],
   "source": [
    "#This is a image of a meaningless geometric figure\n",
    "c = canvas.Canvas(28, 28)\n",
    "c.background(0)\n",
    "\n",
    "c.no_stroke()\n",
    "for t in np.linspace(1, 0.2, 5):\n",
    "    c.fill(255*t)\n",
    "    c.circle([c.width/2, c.height/2], 10*t)\n",
    "\n",
    "c.stroke(255)\n",
    "c.line([0, 0], [c.width-1, c.height-1])\n",
    "c.line([0, c.height-1], [c.width-1, 0])\n",
    "\n",
    "x = c.get_image_grayscale()\n",
    "predictions = model.predict(x.reshape(1, 28, 28, 1), verbose=False)\n",
    "# Get the index in the array with highest confidence, that will be our predicted number\n",
    "predicted = np.argmax(predictions[0])\n",
    "c.show(title='Predicted number: ' + str(predicted), size=(512, 512))"
   ]
  },
  {
   "cell_type": "code",
   "execution_count": null,
   "id": "bd774f65",
   "metadata": {},
   "outputs": [],
   "source": []
  }
 ],
 "metadata": {
  "kernelspec": {
   "display_name": "Python 3",
   "language": "python",
   "name": "python3"
  },
  "language_info": {
   "codemirror_mode": {
    "name": "ipython",
    "version": 3
   },
   "file_extension": ".py",
   "mimetype": "text/x-python",
   "name": "python",
   "nbconvert_exporter": "python",
   "pygments_lexer": "ipython3",
   "version": "3.9.16"
  }
 },
 "nbformat": 4,
 "nbformat_minor": 5
}
